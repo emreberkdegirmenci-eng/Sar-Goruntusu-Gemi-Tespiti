{
  "nbformat": 4,
  "nbformat_minor": 0,
  "metadata": {
    "colab": {
      "provenance": []
    },
    "kernelspec": {
      "name": "python3",
      "display_name": "Python 3"
    },
    "language_info": {
      "name": "python"
    }
  },
  "cells": [
    {
      "cell_type": "code",
      "execution_count": 1,
      "metadata": {
        "id": "4bz6GofvqupR",
        "colab": {
          "base_uri": "https://localhost:8080/",
          "height": 367
        },
        "outputId": "0267909f-38ec-46cd-b652-06952ff74b15"
      },
      "outputs": [
        {
          "output_type": "stream",
          "name": "stdout",
          "text": [
            "\u001b[2K   \u001b[90m━━━━━━━━━━━━━━━━━━━━━━━━━━━━━━━━━━━━━━━━\u001b[0m \u001b[32m1.0/1.0 MB\u001b[0m \u001b[31m14.0 MB/s\u001b[0m eta \u001b[36m0:00:00\u001b[0m\n",
            "\u001b[2K   \u001b[90m━━━━━━━━━━━━━━━━━━━━━━━━━━━━━━━━━━━━━━━━\u001b[0m \u001b[32m363.4/363.4 MB\u001b[0m \u001b[31m4.6 MB/s\u001b[0m eta \u001b[36m0:00:00\u001b[0m\n",
            "\u001b[2K   \u001b[90m━━━━━━━━━━━━━━━━━━━━━━━━━━━━━━━━━━━━━━━━\u001b[0m \u001b[32m13.8/13.8 MB\u001b[0m \u001b[31m106.6 MB/s\u001b[0m eta \u001b[36m0:00:00\u001b[0m\n",
            "\u001b[2K   \u001b[90m━━━━━━━━━━━━━━━━━━━━━━━━━━━━━━━━━━━━━━━━\u001b[0m \u001b[32m24.6/24.6 MB\u001b[0m \u001b[31m84.5 MB/s\u001b[0m eta \u001b[36m0:00:00\u001b[0m\n",
            "\u001b[2K   \u001b[90m━━━━━━━━━━━━━━━━━━━━━━━━━━━━━━━━━━━━━━━━\u001b[0m \u001b[32m883.7/883.7 kB\u001b[0m \u001b[31m58.3 MB/s\u001b[0m eta \u001b[36m0:00:00\u001b[0m\n",
            "\u001b[2K   \u001b[90m━━━━━━━━━━━━━━━━━━━━━━━━━━━━━━━━━━━━━━━\u001b[0m \u001b[32m664.8/664.8 MB\u001b[0m \u001b[31m830.0 kB/s\u001b[0m eta \u001b[36m0:00:00\u001b[0m\n",
            "\u001b[2K   \u001b[90m━━━━━━━━━━━━━━━━━━━━━━━━━━━━━━━━━━━━━━━━\u001b[0m \u001b[32m211.5/211.5 MB\u001b[0m \u001b[31m3.9 MB/s\u001b[0m eta \u001b[36m0:00:00\u001b[0m\n",
            "\u001b[2K   \u001b[90m━━━━━━━━━━━━━━━━━━━━━━━━━━━━━━━━━━━━━━━━\u001b[0m \u001b[32m56.3/56.3 MB\u001b[0m \u001b[31m7.9 MB/s\u001b[0m eta \u001b[36m0:00:00\u001b[0m\n",
            "\u001b[2K   \u001b[90m━━━━━━━━━━━━━━━━━━━━━━━━━━━━━━━━━━━━━━━━\u001b[0m \u001b[32m127.9/127.9 MB\u001b[0m \u001b[31m7.6 MB/s\u001b[0m eta \u001b[36m0:00:00\u001b[0m\n",
            "\u001b[2K   \u001b[90m━━━━━━━━━━━━━━━━━━━━━━━━━━━━━━━━━━━━━━━━\u001b[0m \u001b[32m207.5/207.5 MB\u001b[0m \u001b[31m4.1 MB/s\u001b[0m eta \u001b[36m0:00:00\u001b[0m\n",
            "\u001b[2K   \u001b[90m━━━━━━━━━━━━━━━━━━━━━━━━━━━━━━━━━━━━━━━━\u001b[0m \u001b[32m188.7/188.7 MB\u001b[0m \u001b[31m4.7 MB/s\u001b[0m eta \u001b[36m0:00:00\u001b[0m\n",
            "\u001b[2K   \u001b[90m━━━━━━━━━━━━━━━━━━━━━━━━━━━━━━━━━━━━━━━━\u001b[0m \u001b[32m21.1/21.1 MB\u001b[0m \u001b[31m62.5 MB/s\u001b[0m eta \u001b[36m0:00:00\u001b[0m\n",
            "\u001b[?25h"
          ]
        },
        {
          "output_type": "display_data",
          "data": {
            "text/plain": [
              "<IPython.core.display.Javascript object>"
            ],
            "application/javascript": [
              "\n",
              "        window._wandbApiKey = new Promise((resolve, reject) => {\n",
              "            function loadScript(url) {\n",
              "            return new Promise(function(resolve, reject) {\n",
              "                let newScript = document.createElement(\"script\");\n",
              "                newScript.onerror = reject;\n",
              "                newScript.onload = resolve;\n",
              "                document.body.appendChild(newScript);\n",
              "                newScript.src = url;\n",
              "            });\n",
              "            }\n",
              "            loadScript(\"https://cdn.jsdelivr.net/npm/postmate/build/postmate.min.js\").then(() => {\n",
              "            const iframe = document.createElement('iframe')\n",
              "            iframe.style.cssText = \"width:0;height:0;border:none\"\n",
              "            document.body.appendChild(iframe)\n",
              "            const handshake = new Postmate({\n",
              "                container: iframe,\n",
              "                url: 'https://wandb.ai/authorize'\n",
              "            });\n",
              "            const timeout = setTimeout(() => reject(\"Couldn't auto authenticate\"), 5000)\n",
              "            handshake.then(function(child) {\n",
              "                child.on('authorize', data => {\n",
              "                    clearTimeout(timeout)\n",
              "                    resolve(data)\n",
              "                });\n",
              "            });\n",
              "            })\n",
              "        });\n",
              "    "
            ]
          },
          "metadata": {}
        },
        {
          "output_type": "stream",
          "name": "stderr",
          "text": [
            "\u001b[34m\u001b[1mwandb\u001b[0m: \u001b[33mWARNING\u001b[0m If you're specifying your api key in code, ensure this code is not shared publicly.\n",
            "\u001b[34m\u001b[1mwandb\u001b[0m: \u001b[33mWARNING\u001b[0m Consider setting the WANDB_API_KEY environment variable, or running `wandb login` from the command line.\n",
            "\u001b[34m\u001b[1mwandb\u001b[0m: No netrc file found, creating one.\n",
            "\u001b[34m\u001b[1mwandb\u001b[0m: Appending key for api.wandb.ai to your netrc file: /root/.netrc\n",
            "\u001b[34m\u001b[1mwandb\u001b[0m: Currently logged in as: \u001b[33memreberkdegirmenci\u001b[0m (\u001b[33memreberkdegirmenci-k-r-kkale-niversitesi\u001b[0m) to \u001b[32mhttps://api.wandb.ai\u001b[0m. Use \u001b[1m`wandb login --relogin`\u001b[0m to force relogin\n"
          ]
        },
        {
          "output_type": "execute_result",
          "data": {
            "text/plain": [
              "True"
            ]
          },
          "metadata": {},
          "execution_count": 1
        }
      ],
      "source": [
        "# YOLOv8 kurulum\n",
        "!pip install ultralytics --quiet\n",
        "!pip install wandb --quiet\n",
        "import wandb\n",
        "wandb.login()  # W&B API anahtarını girmeniz istenecek\n"
      ]
    },
    {
      "cell_type": "code",
      "source": [
        "from google.colab import drive\n",
        "import os\n",
        "drive.mount('/content/drive')"
      ],
      "metadata": {
        "colab": {
          "base_uri": "https://localhost:8080/"
        },
        "id": "Vmo2Tl87xh_H",
        "outputId": "7cb9366d-f967-4826-8f97-ec1e3783e4fb"
      },
      "execution_count": 2,
      "outputs": [
        {
          "output_type": "stream",
          "name": "stdout",
          "text": [
            "Mounted at /content/drive\n"
          ]
        }
      ]
    },
    {
      "cell_type": "code",
      "source": [
        "import os\n",
        "import json\n",
        "import shutil\n",
        "import random\n",
        "\n",
        "# Dataset yolu\n",
        "dataset_root = \"/content/drive/MyDrive/ship_dataset_2\"\n",
        "subset_root = os.path.join(dataset_root, \"subset_train_10\")\n",
        "\n",
        "# Klasörleri oluştur\n",
        "os.makedirs(os.path.join(subset_root, \"images\"), exist_ok=True)\n",
        "\n",
        "# JSON ve image dosya yolları\n",
        "train_json_path = os.path.join(dataset_root, \"train\", \"annotations.json\")\n",
        "subset_json_path = os.path.join(subset_root, \"annotations.json\")\n",
        "train_image_dir = os.path.join(dataset_root, \"train\", \"images\")\n",
        "subset_image_dir = os.path.join(subset_root, \"images\")\n",
        "\n",
        "# JSON'u yükle\n",
        "with open(train_json_path) as f:\n",
        "    coco_data = json.load(f)\n",
        "\n",
        "# Görselleri ve anotasyonları %10 oranında seç\n",
        "image_ids = [img[\"id\"] for img in coco_data[\"images\"]]\n",
        "subset_size = int(len(image_ids) * 0.1)\n",
        "subset_image_ids = set(random.sample(image_ids, subset_size))\n",
        "\n",
        "subset_images = [img for img in coco_data[\"images\"] if img[\"id\"] in subset_image_ids]\n",
        "subset_annotations = [ann for ann in coco_data[\"annotations\"] if ann[\"image_id\"] in subset_image_ids]\n",
        "\n",
        "# Alt küme JSON yapısı\n",
        "subset_coco = {\n",
        "    \"info\": coco_data.get(\"info\", {}),\n",
        "    \"licenses\": coco_data.get(\"licenses\", []),\n",
        "    \"images\": subset_images,\n",
        "    \"annotations\": subset_annotations,\n",
        "    \"categories\": coco_data[\"categories\"]\n",
        "}\n",
        "\n",
        "# JSON dosyasını kaydet\n",
        "with open(subset_json_path, \"w\") as f:\n",
        "    json.dump(subset_coco, f)\n",
        "\n",
        "# İlgili görselleri kopyala\n",
        "for img in subset_images:\n",
        "    src = os.path.join(train_image_dir, img[\"file_name\"])\n",
        "    dst = os.path.join(subset_image_dir, img[\"file_name\"])\n",
        "    if os.path.exists(src):\n",
        "        shutil.copy(src, dst)\n",
        "\n",
        "# =============================\n",
        "# VALİDATION SET %10 ALT KÜME\n",
        "# =============================\n",
        "\n",
        "val_json_path = os.path.join(dataset_root, \"valid\", \"annotations.json\")\n",
        "val_image_dir = os.path.join(dataset_root, \"valid\", \"images\")\n",
        "\n",
        "\n",
        "subset_val_root = os.path.join(dataset_root, \"subset_valid_10\")\n",
        "subset_val_image_dir = os.path.join(subset_val_root, \"images\")\n",
        "subset_val_json_path = os.path.join(subset_val_root, \"annotations.json\")\n",
        "\n",
        "# Klasörleri oluştur\n",
        "os.makedirs(subset_val_image_dir, exist_ok=True)\n",
        "\n",
        "# JSON'u yükle\n",
        "with open(val_json_path) as f:\n",
        "    val_data = json.load(f)\n",
        "\n",
        "# Görsel ID'lerinden %10 seç\n",
        "val_image_ids = [img[\"id\"] for img in val_data[\"images\"]]\n",
        "val_subset_size = int(len(val_image_ids) * 0.1)\n",
        "val_subset_ids = set(random.sample(val_image_ids, val_subset_size))\n",
        "\n",
        "val_subset_images = [img for img in val_data[\"images\"] if img[\"id\"] in val_subset_ids]\n",
        "val_subset_annotations = [ann for ann in val_data[\"annotations\"] if ann[\"image_id\"] in val_subset_ids]\n",
        "\n",
        "# Alt küme JSON\n",
        "val_subset_coco = {\n",
        "    \"info\": val_data.get(\"info\", {}),\n",
        "    \"licenses\": val_data.get(\"licenses\", []),\n",
        "    \"images\": val_subset_images,\n",
        "    \"annotations\": val_subset_annotations,\n",
        "    \"categories\": val_data[\"categories\"]\n",
        "}\n",
        "\n",
        "# JSON kaydet\n",
        "with open(subset_val_json_path, \"w\") as f:\n",
        "    json.dump(val_subset_coco, f)\n",
        "\n",
        "# Görselleri kopyala\n",
        "for img in val_subset_images:\n",
        "    src = os.path.join(val_image_dir, img[\"file_name\"])\n",
        "    dst = os.path.join(subset_val_image_dir, img[\"file_name\"])\n",
        "    if os.path.exists(src):\n",
        "        shutil.copy(src, dst)\n"
      ],
      "metadata": {
        "id": "T4Vm9NSNyK7Y"
      },
      "execution_count": 5,
      "outputs": []
    },
    {
      "cell_type": "code",
      "source": [
        "yaml_content = \"\"\"\n",
        "train: /content/drive/MyDrive/ship_dataset_2/subset_train_10/images\n",
        "val: /content/drive/MyDrive/ship_dataset_2/subset_valid_10/images\n",
        "\n",
        "# COCO formatını kullanacağımız için yalnızca image klasörlerini gösteriyoruz\n",
        "# annotations.json dosyaları varsayılan olarak images klasöründeki `annotations.json` olarak alınır\n",
        "\n",
        "nc: 1\n",
        "names: [\"ship\"]\n",
        "\"\"\"\n",
        "\n",
        "with open(\"ship_data.yaml\", \"w\") as f:\n",
        "    f.write(yaml_content)\n"
      ],
      "metadata": {
        "id": "4H1PqhpX-IXq"
      },
      "execution_count": 6,
      "outputs": []
    },
    {
      "cell_type": "code",
      "source": [
        "from ultralytics import YOLO\n",
        "\n",
        "# Modeli yükle\n",
        "model = YOLO(\"yolov8s.pt\")\n",
        "\n",
        "# Eğitim\n",
        "model.train(\n",
        "    data=\"ship_data.yaml\",  # COCO formatı burada tanımlanmalı\n",
        "    epochs=5,\n",
        "    imgsz=224,\n",
        "    batch=16,\n",
        "    project=\"sar_ship_detection\",\n",
        "    name=\"yolov8_ship\",\n",
        "    save=True,\n",
        "    save_period=1,\n",
        "    workers=2,\n",
        "    verbose=True,\n",
        "    plots=True,\n",
        "    tracker=\"wandb\"\n",
        ")\n"
      ],
      "metadata": {
        "colab": {
          "base_uri": "https://localhost:8080/"
        },
        "id": "byPOKqLj-KQQ",
        "outputId": "ac52a273-f133-47c4-bb52-689dad2f0739"
      },
      "execution_count": 11,
      "outputs": [
        {
          "metadata": {
            "tags": null
          },
          "name": "stdout",
          "output_type": "stream",
          "text": [
            "Ultralytics 8.3.175 🚀 Python-3.11.13 torch-2.6.0+cu124 CPU (Intel Xeon 2.20GHz)\n",
            "\u001b[34m\u001b[1mengine/trainer: \u001b[0magnostic_nms=False, amp=True, augment=False, auto_augment=randaugment, batch=16, bgr=0.0, box=7.5, cache=False, cfg=None, classes=None, close_mosaic=10, cls=0.5, conf=None, copy_paste=0.0, copy_paste_mode=flip, cos_lr=False, cutmix=0.0, data=ship_data.yaml, degrees=0.0, deterministic=True, device=cpu, dfl=1.5, dnn=False, dropout=0.0, dynamic=False, embed=None, epochs=5, erasing=0.4, exist_ok=False, fliplr=0.5, flipud=0.0, format=torchscript, fraction=1.0, freeze=None, half=False, hsv_h=0.015, hsv_s=0.7, hsv_v=0.4, imgsz=224, int8=False, iou=0.7, keras=False, kobj=1.0, line_width=None, lr0=0.01, lrf=0.01, mask_ratio=4, max_det=300, mixup=0.0, mode=train, model=yolov8s.pt, momentum=0.937, mosaic=1.0, multi_scale=False, name=yolov8_ship3, nbs=64, nms=False, opset=None, optimize=False, optimizer=auto, overlap_mask=True, patience=100, perspective=0.0, plots=True, pose=12.0, pretrained=True, profile=False, project=sar_ship_detection, rect=False, resume=False, retina_masks=False, save=True, save_conf=False, save_crop=False, save_dir=sar_ship_detection/yolov8_ship3, save_frames=False, save_json=False, save_period=1, save_txt=False, scale=0.5, seed=0, shear=0.0, show=False, show_boxes=True, show_conf=True, show_labels=True, simplify=True, single_cls=False, source=None, split=val, stream_buffer=False, task=detect, time=None, tracker=wandb, translate=0.1, val=True, verbose=True, vid_stride=1, visualize=False, warmup_bias_lr=0.1, warmup_epochs=3.0, warmup_momentum=0.8, weight_decay=0.0005, workers=2, workspace=None\n",
            "Overriding model.yaml nc=80 with nc=1\n",
            "\n",
            "                   from  n    params  module                                       arguments                     \n",
            "  0                  -1  1       928  ultralytics.nn.modules.conv.Conv             [3, 32, 3, 2]                 \n",
            "  1                  -1  1     18560  ultralytics.nn.modules.conv.Conv             [32, 64, 3, 2]                \n",
            "  2                  -1  1     29056  ultralytics.nn.modules.block.C2f             [64, 64, 1, True]             \n",
            "  3                  -1  1     73984  ultralytics.nn.modules.conv.Conv             [64, 128, 3, 2]               \n",
            "  4                  -1  2    197632  ultralytics.nn.modules.block.C2f             [128, 128, 2, True]           \n",
            "  5                  -1  1    295424  ultralytics.nn.modules.conv.Conv             [128, 256, 3, 2]              \n",
            "  6                  -1  2    788480  ultralytics.nn.modules.block.C2f             [256, 256, 2, True]           \n",
            "  7                  -1  1   1180672  ultralytics.nn.modules.conv.Conv             [256, 512, 3, 2]              \n",
            "  8                  -1  1   1838080  ultralytics.nn.modules.block.C2f             [512, 512, 1, True]           \n",
            "  9                  -1  1    656896  ultralytics.nn.modules.block.SPPF            [512, 512, 5]                 \n",
            " 10                  -1  1         0  torch.nn.modules.upsampling.Upsample         [None, 2, 'nearest']          \n",
            " 11             [-1, 6]  1         0  ultralytics.nn.modules.conv.Concat           [1]                           \n",
            " 12                  -1  1    591360  ultralytics.nn.modules.block.C2f             [768, 256, 1]                 \n",
            " 13                  -1  1         0  torch.nn.modules.upsampling.Upsample         [None, 2, 'nearest']          \n",
            " 14             [-1, 4]  1         0  ultralytics.nn.modules.conv.Concat           [1]                           \n",
            " 15                  -1  1    148224  ultralytics.nn.modules.block.C2f             [384, 128, 1]                 \n",
            " 16                  -1  1    147712  ultralytics.nn.modules.conv.Conv             [128, 128, 3, 2]              \n",
            " 17            [-1, 12]  1         0  ultralytics.nn.modules.conv.Concat           [1]                           \n",
            " 18                  -1  1    493056  ultralytics.nn.modules.block.C2f             [384, 256, 1]                 \n",
            " 19                  -1  1    590336  ultralytics.nn.modules.conv.Conv             [256, 256, 3, 2]              \n",
            " 20             [-1, 9]  1         0  ultralytics.nn.modules.conv.Concat           [1]                           \n",
            " 21                  -1  1   1969152  ultralytics.nn.modules.block.C2f             [768, 512, 1]                 \n",
            " 22        [15, 18, 21]  1   2116435  ultralytics.nn.modules.head.Detect           [1, [128, 256, 512]]          \n",
            "Model summary: 129 layers, 11,135,987 parameters, 11,135,971 gradients, 28.6 GFLOPs\n",
            "\n",
            "Transferred 349/355 items from pretrained weights\n",
            "Freezing layer 'model.22.dfl.conv.weight'\n",
            "\u001b[34m\u001b[1mtrain: \u001b[0mFast image access ✅ (ping: 0.5±0.1 ms, read: 5.4±4.3 MB/s, size: 14.4 KB)\n"
          ]
        },
        {
          "metadata": {
            "tags": null
          },
          "name": "stderr",
          "output_type": "stream",
          "text": [
            "\u001b[34m\u001b[1mtrain: \u001b[0mScanning /content/drive/MyDrive/ship_dataset_2/subset_train_10/labels... 0 images, 5288 backgrounds, 0 corrupt: 100%|██████████| 5288/5288 [01:36<00:00, 54.94it/s] "
          ]
        },
        {
          "metadata": {
            "tags": null
          },
          "name": "stdout",
          "output_type": "stream",
          "text": [
            "WARNING ⚠️ \u001b[34m\u001b[1mtrain: \u001b[0mNo labels found in /content/drive/MyDrive/ship_dataset_2/subset_train_10/labels.cache. See https://docs.ultralytics.com/datasets for dataset formatting guidance.\n"
          ]
        },
        {
          "metadata": {
            "tags": null
          },
          "name": "stderr",
          "output_type": "stream",
          "text": [
            "\n"
          ]
        },
        {
          "metadata": {
            "tags": null
          },
          "name": "stdout",
          "output_type": "stream",
          "text": [
            "\u001b[34m\u001b[1mtrain: \u001b[0mNew cache created: /content/drive/MyDrive/ship_dataset_2/subset_train_10/labels.cache\n",
            "WARNING ⚠️ Labels are missing or empty in /content/drive/MyDrive/ship_dataset_2/subset_train_10/labels.cache, training may not work correctly. See https://docs.ultralytics.com/datasets for dataset formatting guidance.\n",
            "\u001b[34m\u001b[1malbumentations: \u001b[0mBlur(p=0.01, blur_limit=(3, 7)), MedianBlur(p=0.01, blur_limit=(3, 7)), ToGray(p=0.01, method='weighted_average', num_output_channels=3), CLAHE(p=0.01, clip_limit=(1.0, 4.0), tile_grid_size=(8, 8))\n",
            "\u001b[34m\u001b[1mval: \u001b[0mFast image access ✅ (ping: 0.8±0.6 ms, read: 5.6±5.2 MB/s, size: 13.8 KB)\n"
          ]
        },
        {
          "metadata": {
            "tags": null
          },
          "name": "stderr",
          "output_type": "stream",
          "text": [
            "\u001b[34m\u001b[1mval: \u001b[0mScanning /content/drive/MyDrive/ship_dataset_2/subset_valid_10/labels... 0 images, 397 backgrounds, 0 corrupt: 100%|██████████| 397/397 [00:03<00:00, 119.12it/s]"
          ]
        },
        {
          "metadata": {
            "tags": null
          },
          "name": "stdout",
          "output_type": "stream",
          "text": [
            "WARNING ⚠️ \u001b[34m\u001b[1mval: \u001b[0mNo labels found in /content/drive/MyDrive/ship_dataset_2/subset_valid_10/labels.cache. See https://docs.ultralytics.com/datasets for dataset formatting guidance.\n"
          ]
        },
        {
          "metadata": {
            "tags": null
          },
          "name": "stderr",
          "output_type": "stream",
          "text": [
            "\n"
          ]
        },
        {
          "metadata": {
            "tags": null
          },
          "name": "stdout",
          "output_type": "stream",
          "text": [
            "\u001b[34m\u001b[1mval: \u001b[0mNew cache created: /content/drive/MyDrive/ship_dataset_2/subset_valid_10/labels.cache\n",
            "WARNING ⚠️ Labels are missing or empty in /content/drive/MyDrive/ship_dataset_2/subset_valid_10/labels.cache, training may not work correctly. See https://docs.ultralytics.com/datasets for dataset formatting guidance.\n",
            "Plotting labels to sar_ship_detection/yolov8_ship3/labels.jpg... \n",
            "WARNING ⚠️ zero-size array to reduction operation maximum which has no identity\n",
            "\u001b[34m\u001b[1moptimizer:\u001b[0m 'optimizer=auto' found, ignoring 'lr0=0.01' and 'momentum=0.937' and determining best 'optimizer', 'lr0' and 'momentum' automatically... \n",
            "\u001b[34m\u001b[1moptimizer:\u001b[0m AdamW(lr=0.002, momentum=0.9) with parameter groups 57 weight(decay=0.0), 64 weight(decay=0.0005), 63 bias(decay=0.0)\n",
            "Image sizes 224 train, 224 val\n",
            "Using 0 dataloader workers\n",
            "Logging results to \u001b[1msar_ship_detection/yolov8_ship3\u001b[0m\n",
            "Starting training for 5 epochs...\n",
            "\n",
            "      Epoch    GPU_mem   box_loss   cls_loss   dfl_loss  Instances       Size\n"
          ]
        },
        {
          "metadata": {
            "tags": null
          },
          "name": "stderr",
          "output_type": "stream",
          "text": [
            "        1/5         0G          0      4.381          0          0        224: 100%|██████████| 331/331 [26:58<00:00,  4.89s/it]\n",
            "                 Class     Images  Instances      Box(P          R      mAP50  mAP50-95): 100%|██████████| 13/13 [00:44<00:00,  3.42s/it]"
          ]
        },
        {
          "metadata": {
            "tags": null
          },
          "name": "stdout",
          "output_type": "stream",
          "text": [
            "                   all        397          0          0          0          0          0\n",
            "WARNING ⚠️ no labels found in detect set, can not compute metrics without labels\n"
          ]
        },
        {
          "metadata": {
            "tags": null
          },
          "name": "stderr",
          "output_type": "stream",
          "text": [
            "\n",
            "/usr/local/lib/python3.11/dist-packages/ultralytics/utils/metrics.py:850: RuntimeWarning: Mean of empty slice.\n",
            "  i = smooth(f1_curve.mean(0), 0.1).argmax()  # max F1 index\n",
            "/usr/local/lib/python3.11/dist-packages/numpy/_core/_methods.py:130: RuntimeWarning: invalid value encountered in divide\n",
            "  ret = um.true_divide(\n"
          ]
        },
        {
          "metadata": {
            "tags": null
          },
          "name": "stdout",
          "output_type": "stream",
          "text": [
            "\n",
            "      Epoch    GPU_mem   box_loss   cls_loss   dfl_loss  Instances       Size\n"
          ]
        },
        {
          "metadata": {
            "tags": null
          },
          "name": "stderr",
          "output_type": "stream",
          "text": [
            "        2/5         0G          0  0.0003537          0          0        224: 100%|██████████| 331/331 [24:13<00:00,  4.39s/it]\n",
            "                 Class     Images  Instances      Box(P          R      mAP50  mAP50-95): 100%|██████████| 13/13 [00:45<00:00,  3.53s/it]"
          ]
        },
        {
          "metadata": {
            "tags": null
          },
          "name": "stdout",
          "output_type": "stream",
          "text": [
            "                   all        397          0          0          0          0          0\n",
            "WARNING ⚠️ no labels found in detect set, can not compute metrics without labels\n"
          ]
        },
        {
          "metadata": {
            "tags": null
          },
          "name": "stderr",
          "output_type": "stream",
          "text": [
            "\n",
            "/usr/local/lib/python3.11/dist-packages/ultralytics/utils/metrics.py:850: RuntimeWarning: Mean of empty slice.\n",
            "  i = smooth(f1_curve.mean(0), 0.1).argmax()  # max F1 index\n",
            "/usr/local/lib/python3.11/dist-packages/numpy/_core/_methods.py:130: RuntimeWarning: invalid value encountered in divide\n",
            "  ret = um.true_divide(\n"
          ]
        },
        {
          "metadata": {
            "tags": null
          },
          "name": "stdout",
          "output_type": "stream",
          "text": [
            "\n",
            "      Epoch    GPU_mem   box_loss   cls_loss   dfl_loss  Instances       Size\n"
          ]
        },
        {
          "metadata": {
            "tags": null
          },
          "name": "stderr",
          "output_type": "stream",
          "text": [
            "        3/5         0G          0  1.448e-05          0          0        224: 100%|██████████| 331/331 [24:13<00:00,  4.39s/it]\n",
            "                 Class     Images  Instances      Box(P          R      mAP50  mAP50-95): 100%|██████████| 13/13 [00:47<00:00,  3.65s/it]"
          ]
        },
        {
          "metadata": {
            "tags": null
          },
          "name": "stdout",
          "output_type": "stream",
          "text": [
            "                   all        397          0          0          0          0          0\n",
            "WARNING ⚠️ no labels found in detect set, can not compute metrics without labels\n"
          ]
        },
        {
          "metadata": {
            "tags": null
          },
          "name": "stderr",
          "output_type": "stream",
          "text": [
            "\n",
            "/usr/local/lib/python3.11/dist-packages/ultralytics/utils/metrics.py:850: RuntimeWarning: Mean of empty slice.\n",
            "  i = smooth(f1_curve.mean(0), 0.1).argmax()  # max F1 index\n",
            "/usr/local/lib/python3.11/dist-packages/numpy/_core/_methods.py:130: RuntimeWarning: invalid value encountered in divide\n",
            "  ret = um.true_divide(\n"
          ]
        },
        {
          "metadata": {
            "tags": null
          },
          "name": "stdout",
          "output_type": "stream",
          "text": [
            "\n",
            "      Epoch    GPU_mem   box_loss   cls_loss   dfl_loss  Instances       Size\n"
          ]
        },
        {
          "output_type": "stream",
          "name": "stderr",
          "text": [
            "        4/5         0G          0  2.881e-08          0          0        224: 100%|██████████| 331/331 [24:03<00:00,  4.36s/it]\n",
            "                 Class     Images  Instances      Box(P          R      mAP50  mAP50-95): 100%|██████████| 13/13 [00:45<00:00,  3.47s/it]"
          ]
        },
        {
          "output_type": "stream",
          "name": "stdout",
          "text": [
            "                   all        397          0          0          0          0          0\n",
            "WARNING ⚠️ no labels found in detect set, can not compute metrics without labels\n"
          ]
        },
        {
          "output_type": "stream",
          "name": "stderr",
          "text": [
            "\n",
            "/usr/local/lib/python3.11/dist-packages/ultralytics/utils/metrics.py:850: RuntimeWarning: Mean of empty slice.\n",
            "  i = smooth(f1_curve.mean(0), 0.1).argmax()  # max F1 index\n",
            "/usr/local/lib/python3.11/dist-packages/numpy/_core/_methods.py:130: RuntimeWarning: invalid value encountered in divide\n",
            "  ret = um.true_divide(\n"
          ]
        },
        {
          "output_type": "stream",
          "name": "stdout",
          "text": [
            "\n",
            "      Epoch    GPU_mem   box_loss   cls_loss   dfl_loss  Instances       Size\n"
          ]
        },
        {
          "output_type": "stream",
          "name": "stderr",
          "text": [
            "        5/5         0G          0  2.881e-09          0          0        224: 100%|██████████| 331/331 [23:56<00:00,  4.34s/it]\n",
            "                 Class     Images  Instances      Box(P          R      mAP50  mAP50-95): 100%|██████████| 13/13 [00:44<00:00,  3.44s/it]"
          ]
        },
        {
          "output_type": "stream",
          "name": "stdout",
          "text": [
            "                   all        397          0          0          0          0          0\n",
            "WARNING ⚠️ no labels found in detect set, can not compute metrics without labels\n"
          ]
        },
        {
          "output_type": "stream",
          "name": "stderr",
          "text": [
            "\n",
            "/usr/local/lib/python3.11/dist-packages/ultralytics/utils/metrics.py:850: RuntimeWarning: Mean of empty slice.\n",
            "  i = smooth(f1_curve.mean(0), 0.1).argmax()  # max F1 index\n",
            "/usr/local/lib/python3.11/dist-packages/numpy/_core/_methods.py:130: RuntimeWarning: invalid value encountered in divide\n",
            "  ret = um.true_divide(\n"
          ]
        },
        {
          "output_type": "stream",
          "name": "stdout",
          "text": [
            "\n",
            "5 epochs completed in 2.121 hours.\n",
            "Optimizer stripped from sar_ship_detection/yolov8_ship3/weights/last.pt, 22.5MB\n",
            "Optimizer stripped from sar_ship_detection/yolov8_ship3/weights/best.pt, 22.5MB\n",
            "\n",
            "Validating sar_ship_detection/yolov8_ship3/weights/best.pt...\n",
            "Ultralytics 8.3.175 🚀 Python-3.11.13 torch-2.6.0+cu124 CPU (Intel Xeon 2.20GHz)\n",
            "Model summary (fused): 72 layers, 11,125,971 parameters, 0 gradients, 28.4 GFLOPs\n"
          ]
        },
        {
          "output_type": "stream",
          "name": "stderr",
          "text": [
            "                 Class     Images  Instances      Box(P          R      mAP50  mAP50-95): 100%|██████████| 13/13 [00:44<00:00,  3.39s/it]\n",
            "/usr/local/lib/python3.11/dist-packages/ultralytics/utils/metrics.py:668: RuntimeWarning: Mean of empty slice.\n",
            "  ax.plot(px, py.mean(1), linewidth=3, color=\"blue\", label=f\"all classes {ap[:, 0].mean():.3f} mAP@0.5\")\n",
            "/usr/local/lib/python3.11/dist-packages/numpy/_core/_methods.py:138: RuntimeWarning: invalid value encountered in scalar divide\n",
            "  ret = ret.dtype.type(ret / rcount)\n",
            "/usr/local/lib/python3.11/dist-packages/ultralytics/utils/metrics.py:713: RuntimeWarning: Mean of empty slice.\n",
            "  y = smooth(py.mean(0), 0.1)\n",
            "/usr/local/lib/python3.11/dist-packages/numpy/_core/_methods.py:130: RuntimeWarning: invalid value encountered in divide\n",
            "  ret = um.true_divide(\n",
            "/usr/local/lib/python3.11/dist-packages/ultralytics/utils/metrics.py:713: RuntimeWarning: Mean of empty slice.\n",
            "  y = smooth(py.mean(0), 0.1)\n",
            "/usr/local/lib/python3.11/dist-packages/numpy/_core/_methods.py:130: RuntimeWarning: invalid value encountered in divide\n",
            "  ret = um.true_divide(\n",
            "/usr/local/lib/python3.11/dist-packages/ultralytics/utils/metrics.py:713: RuntimeWarning: Mean of empty slice.\n",
            "  y = smooth(py.mean(0), 0.1)\n",
            "/usr/local/lib/python3.11/dist-packages/numpy/_core/_methods.py:130: RuntimeWarning: invalid value encountered in divide\n",
            "  ret = um.true_divide(\n",
            "/usr/local/lib/python3.11/dist-packages/ultralytics/utils/metrics.py:850: RuntimeWarning: Mean of empty slice.\n",
            "  i = smooth(f1_curve.mean(0), 0.1).argmax()  # max F1 index\n"
          ]
        },
        {
          "output_type": "stream",
          "name": "stdout",
          "text": [
            "                   all        397          0          0          0          0          0\n",
            "WARNING ⚠️ no labels found in detect set, can not compute metrics without labels\n",
            "Speed: 0.4ms preprocess, 104.2ms inference, 0.0ms loss, 0.1ms postprocess per image\n",
            "Results saved to \u001b[1msar_ship_detection/yolov8_ship3\u001b[0m\n"
          ]
        },
        {
          "output_type": "execute_result",
          "data": {
            "text/plain": [
              "ultralytics.utils.metrics.DetMetrics object with attributes:\n",
              "\n",
              "ap_class_index: array([], dtype=int64)\n",
              "box: ultralytics.utils.metrics.Metric object\n",
              "confusion_matrix: <ultralytics.utils.metrics.ConfusionMatrix object at 0x7b54ba650850>\n",
              "curves: ['Precision-Recall(B)', 'F1-Confidence(B)', 'Precision-Confidence(B)', 'Recall-Confidence(B)']\n",
              "curves_results: [[array([          0,    0.001001,    0.002002,    0.003003,    0.004004,    0.005005,    0.006006,    0.007007,    0.008008,    0.009009,     0.01001,    0.011011,    0.012012,    0.013013,    0.014014,    0.015015,    0.016016,    0.017017,    0.018018,    0.019019,     0.02002,    0.021021,    0.022022,    0.023023,\n",
              "          0.024024,    0.025025,    0.026026,    0.027027,    0.028028,    0.029029,     0.03003,    0.031031,    0.032032,    0.033033,    0.034034,    0.035035,    0.036036,    0.037037,    0.038038,    0.039039,     0.04004,    0.041041,    0.042042,    0.043043,    0.044044,    0.045045,    0.046046,    0.047047,\n",
              "          0.048048,    0.049049,     0.05005,    0.051051,    0.052052,    0.053053,    0.054054,    0.055055,    0.056056,    0.057057,    0.058058,    0.059059,     0.06006,    0.061061,    0.062062,    0.063063,    0.064064,    0.065065,    0.066066,    0.067067,    0.068068,    0.069069,     0.07007,    0.071071,\n",
              "          0.072072,    0.073073,    0.074074,    0.075075,    0.076076,    0.077077,    0.078078,    0.079079,     0.08008,    0.081081,    0.082082,    0.083083,    0.084084,    0.085085,    0.086086,    0.087087,    0.088088,    0.089089,     0.09009,    0.091091,    0.092092,    0.093093,    0.094094,    0.095095,\n",
              "          0.096096,    0.097097,    0.098098,    0.099099,      0.1001,      0.1011,      0.1021,      0.1031,      0.1041,     0.10511,     0.10611,     0.10711,     0.10811,     0.10911,     0.11011,     0.11111,     0.11211,     0.11311,     0.11411,     0.11512,     0.11612,     0.11712,     0.11812,     0.11912,\n",
              "           0.12012,     0.12112,     0.12212,     0.12312,     0.12412,     0.12513,     0.12613,     0.12713,     0.12813,     0.12913,     0.13013,     0.13113,     0.13213,     0.13313,     0.13413,     0.13514,     0.13614,     0.13714,     0.13814,     0.13914,     0.14014,     0.14114,     0.14214,     0.14314,\n",
              "           0.14414,     0.14515,     0.14615,     0.14715,     0.14815,     0.14915,     0.15015,     0.15115,     0.15215,     0.15315,     0.15415,     0.15516,     0.15616,     0.15716,     0.15816,     0.15916,     0.16016,     0.16116,     0.16216,     0.16316,     0.16416,     0.16517,     0.16617,     0.16717,\n",
              "           0.16817,     0.16917,     0.17017,     0.17117,     0.17217,     0.17317,     0.17417,     0.17518,     0.17618,     0.17718,     0.17818,     0.17918,     0.18018,     0.18118,     0.18218,     0.18318,     0.18418,     0.18519,     0.18619,     0.18719,     0.18819,     0.18919,     0.19019,     0.19119,\n",
              "           0.19219,     0.19319,     0.19419,      0.1952,      0.1962,      0.1972,      0.1982,      0.1992,      0.2002,      0.2012,      0.2022,      0.2032,      0.2042,     0.20521,     0.20621,     0.20721,     0.20821,     0.20921,     0.21021,     0.21121,     0.21221,     0.21321,     0.21421,     0.21522,\n",
              "           0.21622,     0.21722,     0.21822,     0.21922,     0.22022,     0.22122,     0.22222,     0.22322,     0.22422,     0.22523,     0.22623,     0.22723,     0.22823,     0.22923,     0.23023,     0.23123,     0.23223,     0.23323,     0.23423,     0.23524,     0.23624,     0.23724,     0.23824,     0.23924,\n",
              "           0.24024,     0.24124,     0.24224,     0.24324,     0.24424,     0.24525,     0.24625,     0.24725,     0.24825,     0.24925,     0.25025,     0.25125,     0.25225,     0.25325,     0.25425,     0.25526,     0.25626,     0.25726,     0.25826,     0.25926,     0.26026,     0.26126,     0.26226,     0.26326,\n",
              "           0.26426,     0.26527,     0.26627,     0.26727,     0.26827,     0.26927,     0.27027,     0.27127,     0.27227,     0.27327,     0.27427,     0.27528,     0.27628,     0.27728,     0.27828,     0.27928,     0.28028,     0.28128,     0.28228,     0.28328,     0.28428,     0.28529,     0.28629,     0.28729,\n",
              "           0.28829,     0.28929,     0.29029,     0.29129,     0.29229,     0.29329,     0.29429,      0.2953,      0.2963,      0.2973,      0.2983,      0.2993,      0.3003,      0.3013,      0.3023,      0.3033,      0.3043,     0.30531,     0.30631,     0.30731,     0.30831,     0.30931,     0.31031,     0.31131,\n",
              "           0.31231,     0.31331,     0.31431,     0.31532,     0.31632,     0.31732,     0.31832,     0.31932,     0.32032,     0.32132,     0.32232,     0.32332,     0.32432,     0.32533,     0.32633,     0.32733,     0.32833,     0.32933,     0.33033,     0.33133,     0.33233,     0.33333,     0.33433,     0.33534,\n",
              "           0.33634,     0.33734,     0.33834,     0.33934,     0.34034,     0.34134,     0.34234,     0.34334,     0.34434,     0.34535,     0.34635,     0.34735,     0.34835,     0.34935,     0.35035,     0.35135,     0.35235,     0.35335,     0.35435,     0.35536,     0.35636,     0.35736,     0.35836,     0.35936,\n",
              "           0.36036,     0.36136,     0.36236,     0.36336,     0.36436,     0.36537,     0.36637,     0.36737,     0.36837,     0.36937,     0.37037,     0.37137,     0.37237,     0.37337,     0.37437,     0.37538,     0.37638,     0.37738,     0.37838,     0.37938,     0.38038,     0.38138,     0.38238,     0.38338,\n",
              "           0.38438,     0.38539,     0.38639,     0.38739,     0.38839,     0.38939,     0.39039,     0.39139,     0.39239,     0.39339,     0.39439,      0.3954,      0.3964,      0.3974,      0.3984,      0.3994,      0.4004,      0.4014,      0.4024,      0.4034,      0.4044,     0.40541,     0.40641,     0.40741,\n",
              "           0.40841,     0.40941,     0.41041,     0.41141,     0.41241,     0.41341,     0.41441,     0.41542,     0.41642,     0.41742,     0.41842,     0.41942,     0.42042,     0.42142,     0.42242,     0.42342,     0.42442,     0.42543,     0.42643,     0.42743,     0.42843,     0.42943,     0.43043,     0.43143,\n",
              "           0.43243,     0.43343,     0.43443,     0.43544,     0.43644,     0.43744,     0.43844,     0.43944,     0.44044,     0.44144,     0.44244,     0.44344,     0.44444,     0.44545,     0.44645,     0.44745,     0.44845,     0.44945,     0.45045,     0.45145,     0.45245,     0.45345,     0.45445,     0.45546,\n",
              "           0.45646,     0.45746,     0.45846,     0.45946,     0.46046,     0.46146,     0.46246,     0.46346,     0.46446,     0.46547,     0.46647,     0.46747,     0.46847,     0.46947,     0.47047,     0.47147,     0.47247,     0.47347,     0.47447,     0.47548,     0.47648,     0.47748,     0.47848,     0.47948,\n",
              "           0.48048,     0.48148,     0.48248,     0.48348,     0.48448,     0.48549,     0.48649,     0.48749,     0.48849,     0.48949,     0.49049,     0.49149,     0.49249,     0.49349,     0.49449,      0.4955,      0.4965,      0.4975,      0.4985,      0.4995,      0.5005,      0.5015,      0.5025,      0.5035,\n",
              "            0.5045,     0.50551,     0.50651,     0.50751,     0.50851,     0.50951,     0.51051,     0.51151,     0.51251,     0.51351,     0.51451,     0.51552,     0.51652,     0.51752,     0.51852,     0.51952,     0.52052,     0.52152,     0.52252,     0.52352,     0.52452,     0.52553,     0.52653,     0.52753,\n",
              "           0.52853,     0.52953,     0.53053,     0.53153,     0.53253,     0.53353,     0.53453,     0.53554,     0.53654,     0.53754,     0.53854,     0.53954,     0.54054,     0.54154,     0.54254,     0.54354,     0.54454,     0.54555,     0.54655,     0.54755,     0.54855,     0.54955,     0.55055,     0.55155,\n",
              "           0.55255,     0.55355,     0.55455,     0.55556,     0.55656,     0.55756,     0.55856,     0.55956,     0.56056,     0.56156,     0.56256,     0.56356,     0.56456,     0.56557,     0.56657,     0.56757,     0.56857,     0.56957,     0.57057,     0.57157,     0.57257,     0.57357,     0.57457,     0.57558,\n",
              "           0.57658,     0.57758,     0.57858,     0.57958,     0.58058,     0.58158,     0.58258,     0.58358,     0.58458,     0.58559,     0.58659,     0.58759,     0.58859,     0.58959,     0.59059,     0.59159,     0.59259,     0.59359,     0.59459,      0.5956,      0.5966,      0.5976,      0.5986,      0.5996,\n",
              "            0.6006,      0.6016,      0.6026,      0.6036,      0.6046,     0.60561,     0.60661,     0.60761,     0.60861,     0.60961,     0.61061,     0.61161,     0.61261,     0.61361,     0.61461,     0.61562,     0.61662,     0.61762,     0.61862,     0.61962,     0.62062,     0.62162,     0.62262,     0.62362,\n",
              "           0.62462,     0.62563,     0.62663,     0.62763,     0.62863,     0.62963,     0.63063,     0.63163,     0.63263,     0.63363,     0.63463,     0.63564,     0.63664,     0.63764,     0.63864,     0.63964,     0.64064,     0.64164,     0.64264,     0.64364,     0.64464,     0.64565,     0.64665,     0.64765,\n",
              "           0.64865,     0.64965,     0.65065,     0.65165,     0.65265,     0.65365,     0.65465,     0.65566,     0.65666,     0.65766,     0.65866,     0.65966,     0.66066,     0.66166,     0.66266,     0.66366,     0.66466,     0.66567,     0.66667,     0.66767,     0.66867,     0.66967,     0.67067,     0.67167,\n",
              "           0.67267,     0.67367,     0.67467,     0.67568,     0.67668,     0.67768,     0.67868,     0.67968,     0.68068,     0.68168,     0.68268,     0.68368,     0.68468,     0.68569,     0.68669,     0.68769,     0.68869,     0.68969,     0.69069,     0.69169,     0.69269,     0.69369,     0.69469,      0.6957,\n",
              "            0.6967,      0.6977,      0.6987,      0.6997,      0.7007,      0.7017,      0.7027,      0.7037,      0.7047,     0.70571,     0.70671,     0.70771,     0.70871,     0.70971,     0.71071,     0.71171,     0.71271,     0.71371,     0.71471,     0.71572,     0.71672,     0.71772,     0.71872,     0.71972,\n",
              "           0.72072,     0.72172,     0.72272,     0.72372,     0.72472,     0.72573,     0.72673,     0.72773,     0.72873,     0.72973,     0.73073,     0.73173,     0.73273,     0.73373,     0.73473,     0.73574,     0.73674,     0.73774,     0.73874,     0.73974,     0.74074,     0.74174,     0.74274,     0.74374,\n",
              "           0.74474,     0.74575,     0.74675,     0.74775,     0.74875,     0.74975,     0.75075,     0.75175,     0.75275,     0.75375,     0.75475,     0.75576,     0.75676,     0.75776,     0.75876,     0.75976,     0.76076,     0.76176,     0.76276,     0.76376,     0.76476,     0.76577,     0.76677,     0.76777,\n",
              "           0.76877,     0.76977,     0.77077,     0.77177,     0.77277,     0.77377,     0.77477,     0.77578,     0.77678,     0.77778,     0.77878,     0.77978,     0.78078,     0.78178,     0.78278,     0.78378,     0.78478,     0.78579,     0.78679,     0.78779,     0.78879,     0.78979,     0.79079,     0.79179,\n",
              "           0.79279,     0.79379,     0.79479,      0.7958,      0.7968,      0.7978,      0.7988,      0.7998,      0.8008,      0.8018,      0.8028,      0.8038,      0.8048,     0.80581,     0.80681,     0.80781,     0.80881,     0.80981,     0.81081,     0.81181,     0.81281,     0.81381,     0.81481,     0.81582,\n",
              "           0.81682,     0.81782,     0.81882,     0.81982,     0.82082,     0.82182,     0.82282,     0.82382,     0.82482,     0.82583,     0.82683,     0.82783,     0.82883,     0.82983,     0.83083,     0.83183,     0.83283,     0.83383,     0.83483,     0.83584,     0.83684,     0.83784,     0.83884,     0.83984,\n",
              "           0.84084,     0.84184,     0.84284,     0.84384,     0.84484,     0.84585,     0.84685,     0.84785,     0.84885,     0.84985,     0.85085,     0.85185,     0.85285,     0.85385,     0.85485,     0.85586,     0.85686,     0.85786,     0.85886,     0.85986,     0.86086,     0.86186,     0.86286,     0.86386,\n",
              "           0.86486,     0.86587,     0.86687,     0.86787,     0.86887,     0.86987,     0.87087,     0.87187,     0.87287,     0.87387,     0.87487,     0.87588,     0.87688,     0.87788,     0.87888,     0.87988,     0.88088,     0.88188,     0.88288,     0.88388,     0.88488,     0.88589,     0.88689,     0.88789,\n",
              "           0.88889,     0.88989,     0.89089,     0.89189,     0.89289,     0.89389,     0.89489,      0.8959,      0.8969,      0.8979,      0.8989,      0.8999,      0.9009,      0.9019,      0.9029,      0.9039,      0.9049,     0.90591,     0.90691,     0.90791,     0.90891,     0.90991,     0.91091,     0.91191,\n",
              "           0.91291,     0.91391,     0.91491,     0.91592,     0.91692,     0.91792,     0.91892,     0.91992,     0.92092,     0.92192,     0.92292,     0.92392,     0.92492,     0.92593,     0.92693,     0.92793,     0.92893,     0.92993,     0.93093,     0.93193,     0.93293,     0.93393,     0.93493,     0.93594,\n",
              "           0.93694,     0.93794,     0.93894,     0.93994,     0.94094,     0.94194,     0.94294,     0.94394,     0.94494,     0.94595,     0.94695,     0.94795,     0.94895,     0.94995,     0.95095,     0.95195,     0.95295,     0.95395,     0.95495,     0.95596,     0.95696,     0.95796,     0.95896,     0.95996,\n",
              "           0.96096,     0.96196,     0.96296,     0.96396,     0.96496,     0.96597,     0.96697,     0.96797,     0.96897,     0.96997,     0.97097,     0.97197,     0.97297,     0.97397,     0.97497,     0.97598,     0.97698,     0.97798,     0.97898,     0.97998,     0.98098,     0.98198,     0.98298,     0.98398,\n",
              "           0.98498,     0.98599,     0.98699,     0.98799,     0.98899,     0.98999,     0.99099,     0.99199,     0.99299,     0.99399,     0.99499,       0.996,       0.997,       0.998,       0.999,           1]), array([[          0,           0,           0,           0,           0,           0,           0,           0,           0,           0,           0,           0,           0,           0,           0,           0,           0,           0,           0,           0,           0,           0,           0,\n",
              "                  0,           0,           0,           0,           0,           0,           0,           0,           0,           0,           0,           0,           0,           0,           0,           0,           0,           0,           0,           0,           0,           0,           0,\n",
              "                  0,           0,           0,           0,           0,           0,           0,           0,           0,           0,           0,           0,           0,           0,           0,           0,           0,           0,           0,           0,           0,           0,           0,\n",
              "                  0,           0,           0,           0,           0,           0,           0,           0,           0,           0,           0,           0,           0,           0,           0,           0,           0,           0,           0,           0,           0,           0,           0,\n",
              "                  0,           0,           0,           0,           0,           0,           0,           0,           0,           0,           0,           0,           0,           0,           0,           0,           0,           0,           0,           0,           0,           0,           0,\n",
              "                  0,           0,           0,           0,           0,           0,           0,           0,           0,           0,           0,           0,           0,           0,           0,           0,           0,           0,           0,           0,           0,           0,           0,\n",
              "                  0,           0,           0,           0,           0,           0,           0,           0,           0,           0,           0,           0,           0,           0,           0,           0,           0,           0,           0,           0,           0,           0,           0,\n",
              "                  0,           0,           0,           0,           0,           0,           0,           0,           0,           0,           0,           0,           0,           0,           0,           0,           0,           0,           0,           0,           0,           0,           0,\n",
              "                  0,           0,           0,           0,           0,           0,           0,           0,           0,           0,           0,           0,           0,           0,           0,           0,           0,           0,           0,           0,           0,           0,           0,\n",
              "                  0,           0,           0,           0,           0,           0,           0,           0,           0,           0,           0,           0,           0,           0,           0,           0,           0,           0,           0,           0,           0,           0,           0,\n",
              "                  0,           0,           0,           0,           0,           0,           0,           0,           0,           0,           0,           0,           0,           0,           0,           0,           0,           0,           0,           0,           0,           0,           0,\n",
              "                  0,           0,           0,           0,           0,           0,           0,           0,           0,           0,           0,           0,           0,           0,           0,           0,           0,           0,           0,           0,           0,           0,           0,\n",
              "                  0,           0,           0,           0,           0,           0,           0,           0,           0,           0,           0,           0,           0,           0,           0,           0,           0,           0,           0,           0,           0,           0,           0,\n",
              "                  0,           0,           0,           0,           0,           0,           0,           0,           0,           0,           0,           0,           0,           0,           0,           0,           0,           0,           0,           0,           0,           0,           0,\n",
              "                  0,           0,           0,           0,           0,           0,           0,           0,           0,           0,           0,           0,           0,           0,           0,           0,           0,           0,           0,           0,           0,           0,           0,\n",
              "                  0,           0,           0,           0,           0,           0,           0,           0,           0,           0,           0,           0,           0,           0,           0,           0,           0,           0,           0,           0,           0,           0,           0,\n",
              "                  0,           0,           0,           0,           0,           0,           0,           0,           0,           0,           0,           0,           0,           0,           0,           0,           0,           0,           0,           0,           0,           0,           0,\n",
              "                  0,           0,           0,           0,           0,           0,           0,           0,           0,           0,           0,           0,           0,           0,           0,           0,           0,           0,           0,           0,           0,           0,           0,\n",
              "                  0,           0,           0,           0,           0,           0,           0,           0,           0,           0,           0,           0,           0,           0,           0,           0,           0,           0,           0,           0,           0,           0,           0,\n",
              "                  0,           0,           0,           0,           0,           0,           0,           0,           0,           0,           0,           0,           0,           0,           0,           0,           0,           0,           0,           0,           0,           0,           0,\n",
              "                  0,           0,           0,           0,           0,           0,           0,           0,           0,           0,           0,           0,           0,           0,           0,           0,           0,           0,           0,           0,           0,           0,           0,\n",
              "                  0,           0,           0,           0,           0,           0,           0,           0,           0,           0,           0,           0,           0,           0,           0,           0,           0,           0,           0,           0,           0,           0,           0,\n",
              "                  0,           0,           0,           0,           0,           0,           0,           0,           0,           0,           0,           0,           0,           0,           0,           0,           0,           0,           0,           0,           0,           0,           0,\n",
              "                  0,           0,           0,           0,           0,           0,           0,           0,           0,           0,           0,           0,           0,           0,           0,           0,           0,           0,           0,           0,           0,           0,           0,\n",
              "                  0,           0,           0,           0,           0,           0,           0,           0,           0,           0,           0,           0,           0,           0,           0,           0,           0,           0,           0,           0,           0,           0,           0,\n",
              "                  0,           0,           0,           0,           0,           0,           0,           0,           0,           0,           0,           0,           0,           0,           0,           0,           0,           0,           0,           0,           0,           0,           0,\n",
              "                  0,           0,           0,           0,           0,           0,           0,           0,           0,           0,           0,           0,           0,           0,           0,           0,           0,           0,           0,           0,           0,           0,           0,\n",
              "                  0,           0,           0,           0,           0,           0,           0,           0,           0,           0,           0,           0,           0,           0,           0,           0,           0,           0,           0,           0,           0,           0,           0,\n",
              "                  0,           0,           0,           0,           0,           0,           0,           0,           0,           0,           0,           0,           0,           0,           0,           0,           0,           0,           0,           0,           0,           0,           0,\n",
              "                  0,           0,           0,           0,           0,           0,           0,           0,           0,           0,           0,           0,           0,           0,           0,           0,           0,           0,           0,           0,           0,           0,           0,\n",
              "                  0,           0,           0,           0,           0,           0,           0,           0,           0,           0,           0,           0,           0,           0,           0,           0,           0,           0,           0,           0,           0,           0,           0,\n",
              "                  0,           0,           0,           0,           0,           0,           0,           0,           0,           0,           0,           0,           0,           0,           0,           0,           0,           0,           0,           0,           0,           0,           0,\n",
              "                  0,           0,           0,           0,           0,           0,           0,           0,           0,           0,           0,           0,           0,           0,           0,           0,           0,           0,           0,           0,           0,           0,           0,\n",
              "                  0,           0,           0,           0,           0,           0,           0,           0,           0,           0,           0,           0,           0,           0,           0,           0,           0,           0,           0,           0,           0,           0,           0,\n",
              "                  0,           0,           0,           0,           0,           0,           0,           0,           0,           0,           0,           0,           0,           0,           0,           0,           0,           0,           0,           0,           0,           0,           0,\n",
              "                  0,           0,           0,           0,           0,           0,           0,           0,           0,           0,           0,           0,           0,           0,           0,           0,           0,           0,           0,           0,           0,           0,           0,\n",
              "                  0,           0,           0,           0,           0,           0,           0,           0,           0,           0,           0,           0,           0,           0,           0,           0,           0,           0,           0,           0,           0,           0,           0,\n",
              "                  0,           0,           0,           0,           0,           0,           0,           0,           0,           0,           0,           0,           0,           0,           0,           0,           0,           0,           0,           0,           0,           0,           0,\n",
              "                  0,           0,           0,           0,           0,           0,           0,           0,           0,           0,           0,           0,           0,           0,           0,           0,           0,           0,           0,           0,           0,           0,           0,\n",
              "                  0,           0,           0,           0,           0,           0,           0,           0,           0,           0,           0,           0,           0,           0,           0,           0,           0,           0,           0,           0,           0,           0,           0,\n",
              "                  0,           0,           0,           0,           0,           0,           0,           0,           0,           0,           0,           0,           0,           0,           0,           0,           0,           0,           0,           0,           0,           0,           0,\n",
              "                  0,           0,           0,           0,           0,           0,           0,           0,           0,           0,           0,           0,           0,           0,           0,           0,           0,           0,           0,           0,           0,           0,           0,\n",
              "                  0,           0,           0,           0,           0,           0,           0,           0,           0,           0,           0,           0,           0,           0,           0,           0,           0,           0,           0,           0,           0,           0,           0,\n",
              "                  0,           0,           0,           0,           0,           0,           0,           0,           0,           0,           0]]), 'Recall', 'Precision'], [array([          0,    0.001001,    0.002002,    0.003003,    0.004004,    0.005005,    0.006006,    0.007007,    0.008008,    0.009009,     0.01001,    0.011011,    0.012012,    0.013013,    0.014014,    0.015015,    0.016016,    0.017017,    0.018018,    0.019019,     0.02002,    0.021021,    0.022022,    0.023023,\n",
              "          0.024024,    0.025025,    0.026026,    0.027027,    0.028028,    0.029029,     0.03003,    0.031031,    0.032032,    0.033033,    0.034034,    0.035035,    0.036036,    0.037037,    0.038038,    0.039039,     0.04004,    0.041041,    0.042042,    0.043043,    0.044044,    0.045045,    0.046046,    0.047047,\n",
              "          0.048048,    0.049049,     0.05005,    0.051051,    0.052052,    0.053053,    0.054054,    0.055055,    0.056056,    0.057057,    0.058058,    0.059059,     0.06006,    0.061061,    0.062062,    0.063063,    0.064064,    0.065065,    0.066066,    0.067067,    0.068068,    0.069069,     0.07007,    0.071071,\n",
              "          0.072072,    0.073073,    0.074074,    0.075075,    0.076076,    0.077077,    0.078078,    0.079079,     0.08008,    0.081081,    0.082082,    0.083083,    0.084084,    0.085085,    0.086086,    0.087087,    0.088088,    0.089089,     0.09009,    0.091091,    0.092092,    0.093093,    0.094094,    0.095095,\n",
              "          0.096096,    0.097097,    0.098098,    0.099099,      0.1001,      0.1011,      0.1021,      0.1031,      0.1041,     0.10511,     0.10611,     0.10711,     0.10811,     0.10911,     0.11011,     0.11111,     0.11211,     0.11311,     0.11411,     0.11512,     0.11612,     0.11712,     0.11812,     0.11912,\n",
              "           0.12012,     0.12112,     0.12212,     0.12312,     0.12412,     0.12513,     0.12613,     0.12713,     0.12813,     0.12913,     0.13013,     0.13113,     0.13213,     0.13313,     0.13413,     0.13514,     0.13614,     0.13714,     0.13814,     0.13914,     0.14014,     0.14114,     0.14214,     0.14314,\n",
              "           0.14414,     0.14515,     0.14615,     0.14715,     0.14815,     0.14915,     0.15015,     0.15115,     0.15215,     0.15315,     0.15415,     0.15516,     0.15616,     0.15716,     0.15816,     0.15916,     0.16016,     0.16116,     0.16216,     0.16316,     0.16416,     0.16517,     0.16617,     0.16717,\n",
              "           0.16817,     0.16917,     0.17017,     0.17117,     0.17217,     0.17317,     0.17417,     0.17518,     0.17618,     0.17718,     0.17818,     0.17918,     0.18018,     0.18118,     0.18218,     0.18318,     0.18418,     0.18519,     0.18619,     0.18719,     0.18819,     0.18919,     0.19019,     0.19119,\n",
              "           0.19219,     0.19319,     0.19419,      0.1952,      0.1962,      0.1972,      0.1982,      0.1992,      0.2002,      0.2012,      0.2022,      0.2032,      0.2042,     0.20521,     0.20621,     0.20721,     0.20821,     0.20921,     0.21021,     0.21121,     0.21221,     0.21321,     0.21421,     0.21522,\n",
              "           0.21622,     0.21722,     0.21822,     0.21922,     0.22022,     0.22122,     0.22222,     0.22322,     0.22422,     0.22523,     0.22623,     0.22723,     0.22823,     0.22923,     0.23023,     0.23123,     0.23223,     0.23323,     0.23423,     0.23524,     0.23624,     0.23724,     0.23824,     0.23924,\n",
              "           0.24024,     0.24124,     0.24224,     0.24324,     0.24424,     0.24525,     0.24625,     0.24725,     0.24825,     0.24925,     0.25025,     0.25125,     0.25225,     0.25325,     0.25425,     0.25526,     0.25626,     0.25726,     0.25826,     0.25926,     0.26026,     0.26126,     0.26226,     0.26326,\n",
              "           0.26426,     0.26527,     0.26627,     0.26727,     0.26827,     0.26927,     0.27027,     0.27127,     0.27227,     0.27327,     0.27427,     0.27528,     0.27628,     0.27728,     0.27828,     0.27928,     0.28028,     0.28128,     0.28228,     0.28328,     0.28428,     0.28529,     0.28629,     0.28729,\n",
              "           0.28829,     0.28929,     0.29029,     0.29129,     0.29229,     0.29329,     0.29429,      0.2953,      0.2963,      0.2973,      0.2983,      0.2993,      0.3003,      0.3013,      0.3023,      0.3033,      0.3043,     0.30531,     0.30631,     0.30731,     0.30831,     0.30931,     0.31031,     0.31131,\n",
              "           0.31231,     0.31331,     0.31431,     0.31532,     0.31632,     0.31732,     0.31832,     0.31932,     0.32032,     0.32132,     0.32232,     0.32332,     0.32432,     0.32533,     0.32633,     0.32733,     0.32833,     0.32933,     0.33033,     0.33133,     0.33233,     0.33333,     0.33433,     0.33534,\n",
              "           0.33634,     0.33734,     0.33834,     0.33934,     0.34034,     0.34134,     0.34234,     0.34334,     0.34434,     0.34535,     0.34635,     0.34735,     0.34835,     0.34935,     0.35035,     0.35135,     0.35235,     0.35335,     0.35435,     0.35536,     0.35636,     0.35736,     0.35836,     0.35936,\n",
              "           0.36036,     0.36136,     0.36236,     0.36336,     0.36436,     0.36537,     0.36637,     0.36737,     0.36837,     0.36937,     0.37037,     0.37137,     0.37237,     0.37337,     0.37437,     0.37538,     0.37638,     0.37738,     0.37838,     0.37938,     0.38038,     0.38138,     0.38238,     0.38338,\n",
              "           0.38438,     0.38539,     0.38639,     0.38739,     0.38839,     0.38939,     0.39039,     0.39139,     0.39239,     0.39339,     0.39439,      0.3954,      0.3964,      0.3974,      0.3984,      0.3994,      0.4004,      0.4014,      0.4024,      0.4034,      0.4044,     0.40541,     0.40641,     0.40741,\n",
              "           0.40841,     0.40941,     0.41041,     0.41141,     0.41241,     0.41341,     0.41441,     0.41542,     0.41642,     0.41742,     0.41842,     0.41942,     0.42042,     0.42142,     0.42242,     0.42342,     0.42442,     0.42543,     0.42643,     0.42743,     0.42843,     0.42943,     0.43043,     0.43143,\n",
              "           0.43243,     0.43343,     0.43443,     0.43544,     0.43644,     0.43744,     0.43844,     0.43944,     0.44044,     0.44144,     0.44244,     0.44344,     0.44444,     0.44545,     0.44645,     0.44745,     0.44845,     0.44945,     0.45045,     0.45145,     0.45245,     0.45345,     0.45445,     0.45546,\n",
              "           0.45646,     0.45746,     0.45846,     0.45946,     0.46046,     0.46146,     0.46246,     0.46346,     0.46446,     0.46547,     0.46647,     0.46747,     0.46847,     0.46947,     0.47047,     0.47147,     0.47247,     0.47347,     0.47447,     0.47548,     0.47648,     0.47748,     0.47848,     0.47948,\n",
              "           0.48048,     0.48148,     0.48248,     0.48348,     0.48448,     0.48549,     0.48649,     0.48749,     0.48849,     0.48949,     0.49049,     0.49149,     0.49249,     0.49349,     0.49449,      0.4955,      0.4965,      0.4975,      0.4985,      0.4995,      0.5005,      0.5015,      0.5025,      0.5035,\n",
              "            0.5045,     0.50551,     0.50651,     0.50751,     0.50851,     0.50951,     0.51051,     0.51151,     0.51251,     0.51351,     0.51451,     0.51552,     0.51652,     0.51752,     0.51852,     0.51952,     0.52052,     0.52152,     0.52252,     0.52352,     0.52452,     0.52553,     0.52653,     0.52753,\n",
              "           0.52853,     0.52953,     0.53053,     0.53153,     0.53253,     0.53353,     0.53453,     0.53554,     0.53654,     0.53754,     0.53854,     0.53954,     0.54054,     0.54154,     0.54254,     0.54354,     0.54454,     0.54555,     0.54655,     0.54755,     0.54855,     0.54955,     0.55055,     0.55155,\n",
              "           0.55255,     0.55355,     0.55455,     0.55556,     0.55656,     0.55756,     0.55856,     0.55956,     0.56056,     0.56156,     0.56256,     0.56356,     0.56456,     0.56557,     0.56657,     0.56757,     0.56857,     0.56957,     0.57057,     0.57157,     0.57257,     0.57357,     0.57457,     0.57558,\n",
              "           0.57658,     0.57758,     0.57858,     0.57958,     0.58058,     0.58158,     0.58258,     0.58358,     0.58458,     0.58559,     0.58659,     0.58759,     0.58859,     0.58959,     0.59059,     0.59159,     0.59259,     0.59359,     0.59459,      0.5956,      0.5966,      0.5976,      0.5986,      0.5996,\n",
              "            0.6006,      0.6016,      0.6026,      0.6036,      0.6046,     0.60561,     0.60661,     0.60761,     0.60861,     0.60961,     0.61061,     0.61161,     0.61261,     0.61361,     0.61461,     0.61562,     0.61662,     0.61762,     0.61862,     0.61962,     0.62062,     0.62162,     0.62262,     0.62362,\n",
              "           0.62462,     0.62563,     0.62663,     0.62763,     0.62863,     0.62963,     0.63063,     0.63163,     0.63263,     0.63363,     0.63463,     0.63564,     0.63664,     0.63764,     0.63864,     0.63964,     0.64064,     0.64164,     0.64264,     0.64364,     0.64464,     0.64565,     0.64665,     0.64765,\n",
              "           0.64865,     0.64965,     0.65065,     0.65165,     0.65265,     0.65365,     0.65465,     0.65566,     0.65666,     0.65766,     0.65866,     0.65966,     0.66066,     0.66166,     0.66266,     0.66366,     0.66466,     0.66567,     0.66667,     0.66767,     0.66867,     0.66967,     0.67067,     0.67167,\n",
              "           0.67267,     0.67367,     0.67467,     0.67568,     0.67668,     0.67768,     0.67868,     0.67968,     0.68068,     0.68168,     0.68268,     0.68368,     0.68468,     0.68569,     0.68669,     0.68769,     0.68869,     0.68969,     0.69069,     0.69169,     0.69269,     0.69369,     0.69469,      0.6957,\n",
              "            0.6967,      0.6977,      0.6987,      0.6997,      0.7007,      0.7017,      0.7027,      0.7037,      0.7047,     0.70571,     0.70671,     0.70771,     0.70871,     0.70971,     0.71071,     0.71171,     0.71271,     0.71371,     0.71471,     0.71572,     0.71672,     0.71772,     0.71872,     0.71972,\n",
              "           0.72072,     0.72172,     0.72272,     0.72372,     0.72472,     0.72573,     0.72673,     0.72773,     0.72873,     0.72973,     0.73073,     0.73173,     0.73273,     0.73373,     0.73473,     0.73574,     0.73674,     0.73774,     0.73874,     0.73974,     0.74074,     0.74174,     0.74274,     0.74374,\n",
              "           0.74474,     0.74575,     0.74675,     0.74775,     0.74875,     0.74975,     0.75075,     0.75175,     0.75275,     0.75375,     0.75475,     0.75576,     0.75676,     0.75776,     0.75876,     0.75976,     0.76076,     0.76176,     0.76276,     0.76376,     0.76476,     0.76577,     0.76677,     0.76777,\n",
              "           0.76877,     0.76977,     0.77077,     0.77177,     0.77277,     0.77377,     0.77477,     0.77578,     0.77678,     0.77778,     0.77878,     0.77978,     0.78078,     0.78178,     0.78278,     0.78378,     0.78478,     0.78579,     0.78679,     0.78779,     0.78879,     0.78979,     0.79079,     0.79179,\n",
              "           0.79279,     0.79379,     0.79479,      0.7958,      0.7968,      0.7978,      0.7988,      0.7998,      0.8008,      0.8018,      0.8028,      0.8038,      0.8048,     0.80581,     0.80681,     0.80781,     0.80881,     0.80981,     0.81081,     0.81181,     0.81281,     0.81381,     0.81481,     0.81582,\n",
              "           0.81682,     0.81782,     0.81882,     0.81982,     0.82082,     0.82182,     0.82282,     0.82382,     0.82482,     0.82583,     0.82683,     0.82783,     0.82883,     0.82983,     0.83083,     0.83183,     0.83283,     0.83383,     0.83483,     0.83584,     0.83684,     0.83784,     0.83884,     0.83984,\n",
              "           0.84084,     0.84184,     0.84284,     0.84384,     0.84484,     0.84585,     0.84685,     0.84785,     0.84885,     0.84985,     0.85085,     0.85185,     0.85285,     0.85385,     0.85485,     0.85586,     0.85686,     0.85786,     0.85886,     0.85986,     0.86086,     0.86186,     0.86286,     0.86386,\n",
              "           0.86486,     0.86587,     0.86687,     0.86787,     0.86887,     0.86987,     0.87087,     0.87187,     0.87287,     0.87387,     0.87487,     0.87588,     0.87688,     0.87788,     0.87888,     0.87988,     0.88088,     0.88188,     0.88288,     0.88388,     0.88488,     0.88589,     0.88689,     0.88789,\n",
              "           0.88889,     0.88989,     0.89089,     0.89189,     0.89289,     0.89389,     0.89489,      0.8959,      0.8969,      0.8979,      0.8989,      0.8999,      0.9009,      0.9019,      0.9029,      0.9039,      0.9049,     0.90591,     0.90691,     0.90791,     0.90891,     0.90991,     0.91091,     0.91191,\n",
              "           0.91291,     0.91391,     0.91491,     0.91592,     0.91692,     0.91792,     0.91892,     0.91992,     0.92092,     0.92192,     0.92292,     0.92392,     0.92492,     0.92593,     0.92693,     0.92793,     0.92893,     0.92993,     0.93093,     0.93193,     0.93293,     0.93393,     0.93493,     0.93594,\n",
              "           0.93694,     0.93794,     0.93894,     0.93994,     0.94094,     0.94194,     0.94294,     0.94394,     0.94494,     0.94595,     0.94695,     0.94795,     0.94895,     0.94995,     0.95095,     0.95195,     0.95295,     0.95395,     0.95495,     0.95596,     0.95696,     0.95796,     0.95896,     0.95996,\n",
              "           0.96096,     0.96196,     0.96296,     0.96396,     0.96496,     0.96597,     0.96697,     0.96797,     0.96897,     0.96997,     0.97097,     0.97197,     0.97297,     0.97397,     0.97497,     0.97598,     0.97698,     0.97798,     0.97898,     0.97998,     0.98098,     0.98198,     0.98298,     0.98398,\n",
              "           0.98498,     0.98599,     0.98699,     0.98799,     0.98899,     0.98999,     0.99099,     0.99199,     0.99299,     0.99399,     0.99499,       0.996,       0.997,       0.998,       0.999,           1]), array([], shape=(0, 1000), dtype=float64), 'Confidence', 'F1'], [array([          0,    0.001001,    0.002002,    0.003003,    0.004004,    0.005005,    0.006006,    0.007007,    0.008008,    0.009009,     0.01001,    0.011011,    0.012012,    0.013013,    0.014014,    0.015015,    0.016016,    0.017017,    0.018018,    0.019019,     0.02002,    0.021021,    0.022022,    0.023023,\n",
              "          0.024024,    0.025025,    0.026026,    0.027027,    0.028028,    0.029029,     0.03003,    0.031031,    0.032032,    0.033033,    0.034034,    0.035035,    0.036036,    0.037037,    0.038038,    0.039039,     0.04004,    0.041041,    0.042042,    0.043043,    0.044044,    0.045045,    0.046046,    0.047047,\n",
              "          0.048048,    0.049049,     0.05005,    0.051051,    0.052052,    0.053053,    0.054054,    0.055055,    0.056056,    0.057057,    0.058058,    0.059059,     0.06006,    0.061061,    0.062062,    0.063063,    0.064064,    0.065065,    0.066066,    0.067067,    0.068068,    0.069069,     0.07007,    0.071071,\n",
              "          0.072072,    0.073073,    0.074074,    0.075075,    0.076076,    0.077077,    0.078078,    0.079079,     0.08008,    0.081081,    0.082082,    0.083083,    0.084084,    0.085085,    0.086086,    0.087087,    0.088088,    0.089089,     0.09009,    0.091091,    0.092092,    0.093093,    0.094094,    0.095095,\n",
              "          0.096096,    0.097097,    0.098098,    0.099099,      0.1001,      0.1011,      0.1021,      0.1031,      0.1041,     0.10511,     0.10611,     0.10711,     0.10811,     0.10911,     0.11011,     0.11111,     0.11211,     0.11311,     0.11411,     0.11512,     0.11612,     0.11712,     0.11812,     0.11912,\n",
              "           0.12012,     0.12112,     0.12212,     0.12312,     0.12412,     0.12513,     0.12613,     0.12713,     0.12813,     0.12913,     0.13013,     0.13113,     0.13213,     0.13313,     0.13413,     0.13514,     0.13614,     0.13714,     0.13814,     0.13914,     0.14014,     0.14114,     0.14214,     0.14314,\n",
              "           0.14414,     0.14515,     0.14615,     0.14715,     0.14815,     0.14915,     0.15015,     0.15115,     0.15215,     0.15315,     0.15415,     0.15516,     0.15616,     0.15716,     0.15816,     0.15916,     0.16016,     0.16116,     0.16216,     0.16316,     0.16416,     0.16517,     0.16617,     0.16717,\n",
              "           0.16817,     0.16917,     0.17017,     0.17117,     0.17217,     0.17317,     0.17417,     0.17518,     0.17618,     0.17718,     0.17818,     0.17918,     0.18018,     0.18118,     0.18218,     0.18318,     0.18418,     0.18519,     0.18619,     0.18719,     0.18819,     0.18919,     0.19019,     0.19119,\n",
              "           0.19219,     0.19319,     0.19419,      0.1952,      0.1962,      0.1972,      0.1982,      0.1992,      0.2002,      0.2012,      0.2022,      0.2032,      0.2042,     0.20521,     0.20621,     0.20721,     0.20821,     0.20921,     0.21021,     0.21121,     0.21221,     0.21321,     0.21421,     0.21522,\n",
              "           0.21622,     0.21722,     0.21822,     0.21922,     0.22022,     0.22122,     0.22222,     0.22322,     0.22422,     0.22523,     0.22623,     0.22723,     0.22823,     0.22923,     0.23023,     0.23123,     0.23223,     0.23323,     0.23423,     0.23524,     0.23624,     0.23724,     0.23824,     0.23924,\n",
              "           0.24024,     0.24124,     0.24224,     0.24324,     0.24424,     0.24525,     0.24625,     0.24725,     0.24825,     0.24925,     0.25025,     0.25125,     0.25225,     0.25325,     0.25425,     0.25526,     0.25626,     0.25726,     0.25826,     0.25926,     0.26026,     0.26126,     0.26226,     0.26326,\n",
              "           0.26426,     0.26527,     0.26627,     0.26727,     0.26827,     0.26927,     0.27027,     0.27127,     0.27227,     0.27327,     0.27427,     0.27528,     0.27628,     0.27728,     0.27828,     0.27928,     0.28028,     0.28128,     0.28228,     0.28328,     0.28428,     0.28529,     0.28629,     0.28729,\n",
              "           0.28829,     0.28929,     0.29029,     0.29129,     0.29229,     0.29329,     0.29429,      0.2953,      0.2963,      0.2973,      0.2983,      0.2993,      0.3003,      0.3013,      0.3023,      0.3033,      0.3043,     0.30531,     0.30631,     0.30731,     0.30831,     0.30931,     0.31031,     0.31131,\n",
              "           0.31231,     0.31331,     0.31431,     0.31532,     0.31632,     0.31732,     0.31832,     0.31932,     0.32032,     0.32132,     0.32232,     0.32332,     0.32432,     0.32533,     0.32633,     0.32733,     0.32833,     0.32933,     0.33033,     0.33133,     0.33233,     0.33333,     0.33433,     0.33534,\n",
              "           0.33634,     0.33734,     0.33834,     0.33934,     0.34034,     0.34134,     0.34234,     0.34334,     0.34434,     0.34535,     0.34635,     0.34735,     0.34835,     0.34935,     0.35035,     0.35135,     0.35235,     0.35335,     0.35435,     0.35536,     0.35636,     0.35736,     0.35836,     0.35936,\n",
              "           0.36036,     0.36136,     0.36236,     0.36336,     0.36436,     0.36537,     0.36637,     0.36737,     0.36837,     0.36937,     0.37037,     0.37137,     0.37237,     0.37337,     0.37437,     0.37538,     0.37638,     0.37738,     0.37838,     0.37938,     0.38038,     0.38138,     0.38238,     0.38338,\n",
              "           0.38438,     0.38539,     0.38639,     0.38739,     0.38839,     0.38939,     0.39039,     0.39139,     0.39239,     0.39339,     0.39439,      0.3954,      0.3964,      0.3974,      0.3984,      0.3994,      0.4004,      0.4014,      0.4024,      0.4034,      0.4044,     0.40541,     0.40641,     0.40741,\n",
              "           0.40841,     0.40941,     0.41041,     0.41141,     0.41241,     0.41341,     0.41441,     0.41542,     0.41642,     0.41742,     0.41842,     0.41942,     0.42042,     0.42142,     0.42242,     0.42342,     0.42442,     0.42543,     0.42643,     0.42743,     0.42843,     0.42943,     0.43043,     0.43143,\n",
              "           0.43243,     0.43343,     0.43443,     0.43544,     0.43644,     0.43744,     0.43844,     0.43944,     0.44044,     0.44144,     0.44244,     0.44344,     0.44444,     0.44545,     0.44645,     0.44745,     0.44845,     0.44945,     0.45045,     0.45145,     0.45245,     0.45345,     0.45445,     0.45546,\n",
              "           0.45646,     0.45746,     0.45846,     0.45946,     0.46046,     0.46146,     0.46246,     0.46346,     0.46446,     0.46547,     0.46647,     0.46747,     0.46847,     0.46947,     0.47047,     0.47147,     0.47247,     0.47347,     0.47447,     0.47548,     0.47648,     0.47748,     0.47848,     0.47948,\n",
              "           0.48048,     0.48148,     0.48248,     0.48348,     0.48448,     0.48549,     0.48649,     0.48749,     0.48849,     0.48949,     0.49049,     0.49149,     0.49249,     0.49349,     0.49449,      0.4955,      0.4965,      0.4975,      0.4985,      0.4995,      0.5005,      0.5015,      0.5025,      0.5035,\n",
              "            0.5045,     0.50551,     0.50651,     0.50751,     0.50851,     0.50951,     0.51051,     0.51151,     0.51251,     0.51351,     0.51451,     0.51552,     0.51652,     0.51752,     0.51852,     0.51952,     0.52052,     0.52152,     0.52252,     0.52352,     0.52452,     0.52553,     0.52653,     0.52753,\n",
              "           0.52853,     0.52953,     0.53053,     0.53153,     0.53253,     0.53353,     0.53453,     0.53554,     0.53654,     0.53754,     0.53854,     0.53954,     0.54054,     0.54154,     0.54254,     0.54354,     0.54454,     0.54555,     0.54655,     0.54755,     0.54855,     0.54955,     0.55055,     0.55155,\n",
              "           0.55255,     0.55355,     0.55455,     0.55556,     0.55656,     0.55756,     0.55856,     0.55956,     0.56056,     0.56156,     0.56256,     0.56356,     0.56456,     0.56557,     0.56657,     0.56757,     0.56857,     0.56957,     0.57057,     0.57157,     0.57257,     0.57357,     0.57457,     0.57558,\n",
              "           0.57658,     0.57758,     0.57858,     0.57958,     0.58058,     0.58158,     0.58258,     0.58358,     0.58458,     0.58559,     0.58659,     0.58759,     0.58859,     0.58959,     0.59059,     0.59159,     0.59259,     0.59359,     0.59459,      0.5956,      0.5966,      0.5976,      0.5986,      0.5996,\n",
              "            0.6006,      0.6016,      0.6026,      0.6036,      0.6046,     0.60561,     0.60661,     0.60761,     0.60861,     0.60961,     0.61061,     0.61161,     0.61261,     0.61361,     0.61461,     0.61562,     0.61662,     0.61762,     0.61862,     0.61962,     0.62062,     0.62162,     0.62262,     0.62362,\n",
              "           0.62462,     0.62563,     0.62663,     0.62763,     0.62863,     0.62963,     0.63063,     0.63163,     0.63263,     0.63363,     0.63463,     0.63564,     0.63664,     0.63764,     0.63864,     0.63964,     0.64064,     0.64164,     0.64264,     0.64364,     0.64464,     0.64565,     0.64665,     0.64765,\n",
              "           0.64865,     0.64965,     0.65065,     0.65165,     0.65265,     0.65365,     0.65465,     0.65566,     0.65666,     0.65766,     0.65866,     0.65966,     0.66066,     0.66166,     0.66266,     0.66366,     0.66466,     0.66567,     0.66667,     0.66767,     0.66867,     0.66967,     0.67067,     0.67167,\n",
              "           0.67267,     0.67367,     0.67467,     0.67568,     0.67668,     0.67768,     0.67868,     0.67968,     0.68068,     0.68168,     0.68268,     0.68368,     0.68468,     0.68569,     0.68669,     0.68769,     0.68869,     0.68969,     0.69069,     0.69169,     0.69269,     0.69369,     0.69469,      0.6957,\n",
              "            0.6967,      0.6977,      0.6987,      0.6997,      0.7007,      0.7017,      0.7027,      0.7037,      0.7047,     0.70571,     0.70671,     0.70771,     0.70871,     0.70971,     0.71071,     0.71171,     0.71271,     0.71371,     0.71471,     0.71572,     0.71672,     0.71772,     0.71872,     0.71972,\n",
              "           0.72072,     0.72172,     0.72272,     0.72372,     0.72472,     0.72573,     0.72673,     0.72773,     0.72873,     0.72973,     0.73073,     0.73173,     0.73273,     0.73373,     0.73473,     0.73574,     0.73674,     0.73774,     0.73874,     0.73974,     0.74074,     0.74174,     0.74274,     0.74374,\n",
              "           0.74474,     0.74575,     0.74675,     0.74775,     0.74875,     0.74975,     0.75075,     0.75175,     0.75275,     0.75375,     0.75475,     0.75576,     0.75676,     0.75776,     0.75876,     0.75976,     0.76076,     0.76176,     0.76276,     0.76376,     0.76476,     0.76577,     0.76677,     0.76777,\n",
              "           0.76877,     0.76977,     0.77077,     0.77177,     0.77277,     0.77377,     0.77477,     0.77578,     0.77678,     0.77778,     0.77878,     0.77978,     0.78078,     0.78178,     0.78278,     0.78378,     0.78478,     0.78579,     0.78679,     0.78779,     0.78879,     0.78979,     0.79079,     0.79179,\n",
              "           0.79279,     0.79379,     0.79479,      0.7958,      0.7968,      0.7978,      0.7988,      0.7998,      0.8008,      0.8018,      0.8028,      0.8038,      0.8048,     0.80581,     0.80681,     0.80781,     0.80881,     0.80981,     0.81081,     0.81181,     0.81281,     0.81381,     0.81481,     0.81582,\n",
              "           0.81682,     0.81782,     0.81882,     0.81982,     0.82082,     0.82182,     0.82282,     0.82382,     0.82482,     0.82583,     0.82683,     0.82783,     0.82883,     0.82983,     0.83083,     0.83183,     0.83283,     0.83383,     0.83483,     0.83584,     0.83684,     0.83784,     0.83884,     0.83984,\n",
              "           0.84084,     0.84184,     0.84284,     0.84384,     0.84484,     0.84585,     0.84685,     0.84785,     0.84885,     0.84985,     0.85085,     0.85185,     0.85285,     0.85385,     0.85485,     0.85586,     0.85686,     0.85786,     0.85886,     0.85986,     0.86086,     0.86186,     0.86286,     0.86386,\n",
              "           0.86486,     0.86587,     0.86687,     0.86787,     0.86887,     0.86987,     0.87087,     0.87187,     0.87287,     0.87387,     0.87487,     0.87588,     0.87688,     0.87788,     0.87888,     0.87988,     0.88088,     0.88188,     0.88288,     0.88388,     0.88488,     0.88589,     0.88689,     0.88789,\n",
              "           0.88889,     0.88989,     0.89089,     0.89189,     0.89289,     0.89389,     0.89489,      0.8959,      0.8969,      0.8979,      0.8989,      0.8999,      0.9009,      0.9019,      0.9029,      0.9039,      0.9049,     0.90591,     0.90691,     0.90791,     0.90891,     0.90991,     0.91091,     0.91191,\n",
              "           0.91291,     0.91391,     0.91491,     0.91592,     0.91692,     0.91792,     0.91892,     0.91992,     0.92092,     0.92192,     0.92292,     0.92392,     0.92492,     0.92593,     0.92693,     0.92793,     0.92893,     0.92993,     0.93093,     0.93193,     0.93293,     0.93393,     0.93493,     0.93594,\n",
              "           0.93694,     0.93794,     0.93894,     0.93994,     0.94094,     0.94194,     0.94294,     0.94394,     0.94494,     0.94595,     0.94695,     0.94795,     0.94895,     0.94995,     0.95095,     0.95195,     0.95295,     0.95395,     0.95495,     0.95596,     0.95696,     0.95796,     0.95896,     0.95996,\n",
              "           0.96096,     0.96196,     0.96296,     0.96396,     0.96496,     0.96597,     0.96697,     0.96797,     0.96897,     0.96997,     0.97097,     0.97197,     0.97297,     0.97397,     0.97497,     0.97598,     0.97698,     0.97798,     0.97898,     0.97998,     0.98098,     0.98198,     0.98298,     0.98398,\n",
              "           0.98498,     0.98599,     0.98699,     0.98799,     0.98899,     0.98999,     0.99099,     0.99199,     0.99299,     0.99399,     0.99499,       0.996,       0.997,       0.998,       0.999,           1]), array([], shape=(0, 1000), dtype=float64), 'Confidence', 'Precision'], [array([          0,    0.001001,    0.002002,    0.003003,    0.004004,    0.005005,    0.006006,    0.007007,    0.008008,    0.009009,     0.01001,    0.011011,    0.012012,    0.013013,    0.014014,    0.015015,    0.016016,    0.017017,    0.018018,    0.019019,     0.02002,    0.021021,    0.022022,    0.023023,\n",
              "          0.024024,    0.025025,    0.026026,    0.027027,    0.028028,    0.029029,     0.03003,    0.031031,    0.032032,    0.033033,    0.034034,    0.035035,    0.036036,    0.037037,    0.038038,    0.039039,     0.04004,    0.041041,    0.042042,    0.043043,    0.044044,    0.045045,    0.046046,    0.047047,\n",
              "          0.048048,    0.049049,     0.05005,    0.051051,    0.052052,    0.053053,    0.054054,    0.055055,    0.056056,    0.057057,    0.058058,    0.059059,     0.06006,    0.061061,    0.062062,    0.063063,    0.064064,    0.065065,    0.066066,    0.067067,    0.068068,    0.069069,     0.07007,    0.071071,\n",
              "          0.072072,    0.073073,    0.074074,    0.075075,    0.076076,    0.077077,    0.078078,    0.079079,     0.08008,    0.081081,    0.082082,    0.083083,    0.084084,    0.085085,    0.086086,    0.087087,    0.088088,    0.089089,     0.09009,    0.091091,    0.092092,    0.093093,    0.094094,    0.095095,\n",
              "          0.096096,    0.097097,    0.098098,    0.099099,      0.1001,      0.1011,      0.1021,      0.1031,      0.1041,     0.10511,     0.10611,     0.10711,     0.10811,     0.10911,     0.11011,     0.11111,     0.11211,     0.11311,     0.11411,     0.11512,     0.11612,     0.11712,     0.11812,     0.11912,\n",
              "           0.12012,     0.12112,     0.12212,     0.12312,     0.12412,     0.12513,     0.12613,     0.12713,     0.12813,     0.12913,     0.13013,     0.13113,     0.13213,     0.13313,     0.13413,     0.13514,     0.13614,     0.13714,     0.13814,     0.13914,     0.14014,     0.14114,     0.14214,     0.14314,\n",
              "           0.14414,     0.14515,     0.14615,     0.14715,     0.14815,     0.14915,     0.15015,     0.15115,     0.15215,     0.15315,     0.15415,     0.15516,     0.15616,     0.15716,     0.15816,     0.15916,     0.16016,     0.16116,     0.16216,     0.16316,     0.16416,     0.16517,     0.16617,     0.16717,\n",
              "           0.16817,     0.16917,     0.17017,     0.17117,     0.17217,     0.17317,     0.17417,     0.17518,     0.17618,     0.17718,     0.17818,     0.17918,     0.18018,     0.18118,     0.18218,     0.18318,     0.18418,     0.18519,     0.18619,     0.18719,     0.18819,     0.18919,     0.19019,     0.19119,\n",
              "           0.19219,     0.19319,     0.19419,      0.1952,      0.1962,      0.1972,      0.1982,      0.1992,      0.2002,      0.2012,      0.2022,      0.2032,      0.2042,     0.20521,     0.20621,     0.20721,     0.20821,     0.20921,     0.21021,     0.21121,     0.21221,     0.21321,     0.21421,     0.21522,\n",
              "           0.21622,     0.21722,     0.21822,     0.21922,     0.22022,     0.22122,     0.22222,     0.22322,     0.22422,     0.22523,     0.22623,     0.22723,     0.22823,     0.22923,     0.23023,     0.23123,     0.23223,     0.23323,     0.23423,     0.23524,     0.23624,     0.23724,     0.23824,     0.23924,\n",
              "           0.24024,     0.24124,     0.24224,     0.24324,     0.24424,     0.24525,     0.24625,     0.24725,     0.24825,     0.24925,     0.25025,     0.25125,     0.25225,     0.25325,     0.25425,     0.25526,     0.25626,     0.25726,     0.25826,     0.25926,     0.26026,     0.26126,     0.26226,     0.26326,\n",
              "           0.26426,     0.26527,     0.26627,     0.26727,     0.26827,     0.26927,     0.27027,     0.27127,     0.27227,     0.27327,     0.27427,     0.27528,     0.27628,     0.27728,     0.27828,     0.27928,     0.28028,     0.28128,     0.28228,     0.28328,     0.28428,     0.28529,     0.28629,     0.28729,\n",
              "           0.28829,     0.28929,     0.29029,     0.29129,     0.29229,     0.29329,     0.29429,      0.2953,      0.2963,      0.2973,      0.2983,      0.2993,      0.3003,      0.3013,      0.3023,      0.3033,      0.3043,     0.30531,     0.30631,     0.30731,     0.30831,     0.30931,     0.31031,     0.31131,\n",
              "           0.31231,     0.31331,     0.31431,     0.31532,     0.31632,     0.31732,     0.31832,     0.31932,     0.32032,     0.32132,     0.32232,     0.32332,     0.32432,     0.32533,     0.32633,     0.32733,     0.32833,     0.32933,     0.33033,     0.33133,     0.33233,     0.33333,     0.33433,     0.33534,\n",
              "           0.33634,     0.33734,     0.33834,     0.33934,     0.34034,     0.34134,     0.34234,     0.34334,     0.34434,     0.34535,     0.34635,     0.34735,     0.34835,     0.34935,     0.35035,     0.35135,     0.35235,     0.35335,     0.35435,     0.35536,     0.35636,     0.35736,     0.35836,     0.35936,\n",
              "           0.36036,     0.36136,     0.36236,     0.36336,     0.36436,     0.36537,     0.36637,     0.36737,     0.36837,     0.36937,     0.37037,     0.37137,     0.37237,     0.37337,     0.37437,     0.37538,     0.37638,     0.37738,     0.37838,     0.37938,     0.38038,     0.38138,     0.38238,     0.38338,\n",
              "           0.38438,     0.38539,     0.38639,     0.38739,     0.38839,     0.38939,     0.39039,     0.39139,     0.39239,     0.39339,     0.39439,      0.3954,      0.3964,      0.3974,      0.3984,      0.3994,      0.4004,      0.4014,      0.4024,      0.4034,      0.4044,     0.40541,     0.40641,     0.40741,\n",
              "           0.40841,     0.40941,     0.41041,     0.41141,     0.41241,     0.41341,     0.41441,     0.41542,     0.41642,     0.41742,     0.41842,     0.41942,     0.42042,     0.42142,     0.42242,     0.42342,     0.42442,     0.42543,     0.42643,     0.42743,     0.42843,     0.42943,     0.43043,     0.43143,\n",
              "           0.43243,     0.43343,     0.43443,     0.43544,     0.43644,     0.43744,     0.43844,     0.43944,     0.44044,     0.44144,     0.44244,     0.44344,     0.44444,     0.44545,     0.44645,     0.44745,     0.44845,     0.44945,     0.45045,     0.45145,     0.45245,     0.45345,     0.45445,     0.45546,\n",
              "           0.45646,     0.45746,     0.45846,     0.45946,     0.46046,     0.46146,     0.46246,     0.46346,     0.46446,     0.46547,     0.46647,     0.46747,     0.46847,     0.46947,     0.47047,     0.47147,     0.47247,     0.47347,     0.47447,     0.47548,     0.47648,     0.47748,     0.47848,     0.47948,\n",
              "           0.48048,     0.48148,     0.48248,     0.48348,     0.48448,     0.48549,     0.48649,     0.48749,     0.48849,     0.48949,     0.49049,     0.49149,     0.49249,     0.49349,     0.49449,      0.4955,      0.4965,      0.4975,      0.4985,      0.4995,      0.5005,      0.5015,      0.5025,      0.5035,\n",
              "            0.5045,     0.50551,     0.50651,     0.50751,     0.50851,     0.50951,     0.51051,     0.51151,     0.51251,     0.51351,     0.51451,     0.51552,     0.51652,     0.51752,     0.51852,     0.51952,     0.52052,     0.52152,     0.52252,     0.52352,     0.52452,     0.52553,     0.52653,     0.52753,\n",
              "           0.52853,     0.52953,     0.53053,     0.53153,     0.53253,     0.53353,     0.53453,     0.53554,     0.53654,     0.53754,     0.53854,     0.53954,     0.54054,     0.54154,     0.54254,     0.54354,     0.54454,     0.54555,     0.54655,     0.54755,     0.54855,     0.54955,     0.55055,     0.55155,\n",
              "           0.55255,     0.55355,     0.55455,     0.55556,     0.55656,     0.55756,     0.55856,     0.55956,     0.56056,     0.56156,     0.56256,     0.56356,     0.56456,     0.56557,     0.56657,     0.56757,     0.56857,     0.56957,     0.57057,     0.57157,     0.57257,     0.57357,     0.57457,     0.57558,\n",
              "           0.57658,     0.57758,     0.57858,     0.57958,     0.58058,     0.58158,     0.58258,     0.58358,     0.58458,     0.58559,     0.58659,     0.58759,     0.58859,     0.58959,     0.59059,     0.59159,     0.59259,     0.59359,     0.59459,      0.5956,      0.5966,      0.5976,      0.5986,      0.5996,\n",
              "            0.6006,      0.6016,      0.6026,      0.6036,      0.6046,     0.60561,     0.60661,     0.60761,     0.60861,     0.60961,     0.61061,     0.61161,     0.61261,     0.61361,     0.61461,     0.61562,     0.61662,     0.61762,     0.61862,     0.61962,     0.62062,     0.62162,     0.62262,     0.62362,\n",
              "           0.62462,     0.62563,     0.62663,     0.62763,     0.62863,     0.62963,     0.63063,     0.63163,     0.63263,     0.63363,     0.63463,     0.63564,     0.63664,     0.63764,     0.63864,     0.63964,     0.64064,     0.64164,     0.64264,     0.64364,     0.64464,     0.64565,     0.64665,     0.64765,\n",
              "           0.64865,     0.64965,     0.65065,     0.65165,     0.65265,     0.65365,     0.65465,     0.65566,     0.65666,     0.65766,     0.65866,     0.65966,     0.66066,     0.66166,     0.66266,     0.66366,     0.66466,     0.66567,     0.66667,     0.66767,     0.66867,     0.66967,     0.67067,     0.67167,\n",
              "           0.67267,     0.67367,     0.67467,     0.67568,     0.67668,     0.67768,     0.67868,     0.67968,     0.68068,     0.68168,     0.68268,     0.68368,     0.68468,     0.68569,     0.68669,     0.68769,     0.68869,     0.68969,     0.69069,     0.69169,     0.69269,     0.69369,     0.69469,      0.6957,\n",
              "            0.6967,      0.6977,      0.6987,      0.6997,      0.7007,      0.7017,      0.7027,      0.7037,      0.7047,     0.70571,     0.70671,     0.70771,     0.70871,     0.70971,     0.71071,     0.71171,     0.71271,     0.71371,     0.71471,     0.71572,     0.71672,     0.71772,     0.71872,     0.71972,\n",
              "           0.72072,     0.72172,     0.72272,     0.72372,     0.72472,     0.72573,     0.72673,     0.72773,     0.72873,     0.72973,     0.73073,     0.73173,     0.73273,     0.73373,     0.73473,     0.73574,     0.73674,     0.73774,     0.73874,     0.73974,     0.74074,     0.74174,     0.74274,     0.74374,\n",
              "           0.74474,     0.74575,     0.74675,     0.74775,     0.74875,     0.74975,     0.75075,     0.75175,     0.75275,     0.75375,     0.75475,     0.75576,     0.75676,     0.75776,     0.75876,     0.75976,     0.76076,     0.76176,     0.76276,     0.76376,     0.76476,     0.76577,     0.76677,     0.76777,\n",
              "           0.76877,     0.76977,     0.77077,     0.77177,     0.77277,     0.77377,     0.77477,     0.77578,     0.77678,     0.77778,     0.77878,     0.77978,     0.78078,     0.78178,     0.78278,     0.78378,     0.78478,     0.78579,     0.78679,     0.78779,     0.78879,     0.78979,     0.79079,     0.79179,\n",
              "           0.79279,     0.79379,     0.79479,      0.7958,      0.7968,      0.7978,      0.7988,      0.7998,      0.8008,      0.8018,      0.8028,      0.8038,      0.8048,     0.80581,     0.80681,     0.80781,     0.80881,     0.80981,     0.81081,     0.81181,     0.81281,     0.81381,     0.81481,     0.81582,\n",
              "           0.81682,     0.81782,     0.81882,     0.81982,     0.82082,     0.82182,     0.82282,     0.82382,     0.82482,     0.82583,     0.82683,     0.82783,     0.82883,     0.82983,     0.83083,     0.83183,     0.83283,     0.83383,     0.83483,     0.83584,     0.83684,     0.83784,     0.83884,     0.83984,\n",
              "           0.84084,     0.84184,     0.84284,     0.84384,     0.84484,     0.84585,     0.84685,     0.84785,     0.84885,     0.84985,     0.85085,     0.85185,     0.85285,     0.85385,     0.85485,     0.85586,     0.85686,     0.85786,     0.85886,     0.85986,     0.86086,     0.86186,     0.86286,     0.86386,\n",
              "           0.86486,     0.86587,     0.86687,     0.86787,     0.86887,     0.86987,     0.87087,     0.87187,     0.87287,     0.87387,     0.87487,     0.87588,     0.87688,     0.87788,     0.87888,     0.87988,     0.88088,     0.88188,     0.88288,     0.88388,     0.88488,     0.88589,     0.88689,     0.88789,\n",
              "           0.88889,     0.88989,     0.89089,     0.89189,     0.89289,     0.89389,     0.89489,      0.8959,      0.8969,      0.8979,      0.8989,      0.8999,      0.9009,      0.9019,      0.9029,      0.9039,      0.9049,     0.90591,     0.90691,     0.90791,     0.90891,     0.90991,     0.91091,     0.91191,\n",
              "           0.91291,     0.91391,     0.91491,     0.91592,     0.91692,     0.91792,     0.91892,     0.91992,     0.92092,     0.92192,     0.92292,     0.92392,     0.92492,     0.92593,     0.92693,     0.92793,     0.92893,     0.92993,     0.93093,     0.93193,     0.93293,     0.93393,     0.93493,     0.93594,\n",
              "           0.93694,     0.93794,     0.93894,     0.93994,     0.94094,     0.94194,     0.94294,     0.94394,     0.94494,     0.94595,     0.94695,     0.94795,     0.94895,     0.94995,     0.95095,     0.95195,     0.95295,     0.95395,     0.95495,     0.95596,     0.95696,     0.95796,     0.95896,     0.95996,\n",
              "           0.96096,     0.96196,     0.96296,     0.96396,     0.96496,     0.96597,     0.96697,     0.96797,     0.96897,     0.96997,     0.97097,     0.97197,     0.97297,     0.97397,     0.97497,     0.97598,     0.97698,     0.97798,     0.97898,     0.97998,     0.98098,     0.98198,     0.98298,     0.98398,\n",
              "           0.98498,     0.98599,     0.98699,     0.98799,     0.98899,     0.98999,     0.99099,     0.99199,     0.99299,     0.99399,     0.99499,       0.996,       0.997,       0.998,       0.999,           1]), array([], shape=(0, 1000), dtype=float64), 'Confidence', 'Recall']]\n",
              "fitness: np.float64(0.0)\n",
              "keys: ['metrics/precision(B)', 'metrics/recall(B)', 'metrics/mAP50(B)', 'metrics/mAP50-95(B)']\n",
              "maps: array([          0])\n",
              "names: {0: 'ship'}\n",
              "nt_per_class: array([0])\n",
              "nt_per_image: array([0])\n",
              "results_dict: {'metrics/precision(B)': 0.0, 'metrics/recall(B)': 0.0, 'metrics/mAP50(B)': 0.0, 'metrics/mAP50-95(B)': 0.0, 'fitness': np.float64(0.0)}\n",
              "save_dir: PosixPath('sar_ship_detection/yolov8_ship3')\n",
              "speed: {'preprocess': 0.35189629974873987, 'inference': 104.20996324685365, 'loss': 4.368262274263507e-05, 'postprocess': 0.1126040503689776}\n",
              "stats: {'tp': [], 'conf': [], 'pred_cls': [], 'target_cls': [], 'target_img': []}\n",
              "task: 'detect'"
            ]
          },
          "metadata": {},
          "execution_count": 11
        }
      ]
    },
    {
      "cell_type": "code",
      "source": [
        "!ls runs/detect/train/weights\n"
      ],
      "metadata": {
        "colab": {
          "base_uri": "https://localhost:8080/"
        },
        "id": "Z42gQbErmPYM",
        "outputId": "f4ea5115-5435-4a94-f910-a436ac231928"
      },
      "execution_count": 12,
      "outputs": [
        {
          "output_type": "stream",
          "name": "stdout",
          "text": [
            "ls: cannot access 'runs/detect/train/weights': No such file or directory\n"
          ]
        }
      ]
    },
    {
      "cell_type": "code",
      "source": [
        "!yolo detect predict \\\n",
        "  model=\"sar_ship_detection/yolov8_ship3/weights/best.pt\" \\\n",
        "  source=\"/content/drive/MyDrive/ship_dataset_2/subset_valid_10/images\" \\\n",
        "  save=True \\\n",
        "  conf=0.25\n"
      ],
      "metadata": {
        "colab": {
          "base_uri": "https://localhost:8080/"
        },
        "id": "KmHsIpEUmSRH",
        "outputId": "04eaaacf-f60f-451d-d047-54cf7e082687"
      },
      "execution_count": 16,
      "outputs": [
        {
          "output_type": "stream",
          "name": "stdout",
          "text": [
            "Ultralytics 8.3.175 🚀 Python-3.11.13 torch-2.6.0+cu124 CPU (Intel Xeon 2.20GHz)\n",
            "Model summary (fused): 72 layers, 11,125,971 parameters, 0 gradients, 28.4 GFLOPs\n",
            "\n",
            "image 1/397 /content/drive/MyDrive/ship_dataset_2/subset_valid_10/images/Gao_ship_hh_0201608254401013064.jpg: 224x224 (no detections), 99.0ms\n",
            "image 2/397 /content/drive/MyDrive/ship_dataset_2/subset_valid_10/images/Gao_ship_hh_0201608254401014048.jpg: 224x224 (no detections), 85.0ms\n",
            "image 3/397 /content/drive/MyDrive/ship_dataset_2/subset_valid_10/images/Gao_ship_hh_0201608254401016047.jpg: 224x224 (no detections), 85.3ms\n",
            "image 4/397 /content/drive/MyDrive/ship_dataset_2/subset_valid_10/images/Gao_ship_hh_020160825440201206.jpg: 224x224 (no detections), 161.1ms\n",
            "image 5/397 /content/drive/MyDrive/ship_dataset_2/subset_valid_10/images/Gao_ship_hh_0201608254402025040.jpg: 224x224 (no detections), 83.3ms\n",
            "image 6/397 /content/drive/MyDrive/ship_dataset_2/subset_valid_10/images/Gao_ship_hh_020160825440203044.jpg: 224x224 (no detections), 84.8ms\n",
            "image 7/397 /content/drive/MyDrive/ship_dataset_2/subset_valid_10/images/Gao_ship_hh_020160825440301304.jpg: 224x224 (no detections), 81.5ms\n",
            "image 8/397 /content/drive/MyDrive/ship_dataset_2/subset_valid_10/images/Gao_ship_hh_0201608254501017056.jpg: 224x224 (no detections), 88.6ms\n",
            "image 9/397 /content/drive/MyDrive/ship_dataset_2/subset_valid_10/images/Gao_ship_hh_020160825450102306.jpg: 224x224 (no detections), 82.7ms\n",
            "image 10/397 /content/drive/MyDrive/ship_dataset_2/subset_valid_10/images/Gao_ship_hh_0201608254501024034.jpg: 224x224 (no detections), 97.8ms\n",
            "image 11/397 /content/drive/MyDrive/ship_dataset_2/subset_valid_10/images/Gao_ship_hh_020160825450105030.jpg: 224x224 (no detections), 79.9ms\n",
            "image 12/397 /content/drive/MyDrive/ship_dataset_2/subset_valid_10/images/Gao_ship_hh_020160825450106055.jpg: 224x224 (no detections), 87.6ms\n",
            "image 13/397 /content/drive/MyDrive/ship_dataset_2/subset_valid_10/images/Gao_ship_hh_020160825450201004.jpg: 224x224 (no detections), 85.7ms\n",
            "image 14/397 /content/drive/MyDrive/ship_dataset_2/subset_valid_10/images/Gao_ship_hh_0201611139301045039.jpg: 224x224 (no detections), 82.6ms\n",
            "image 15/397 /content/drive/MyDrive/ship_dataset_2/subset_valid_10/images/Gao_ship_hh_0201611139301050037.jpg: 224x224 (no detections), 82.7ms\n",
            "image 16/397 /content/drive/MyDrive/ship_dataset_2/subset_valid_10/images/Gao_ship_hh_020161113930209037.jpg: 224x224 (no detections), 80.7ms\n",
            "image 17/397 /content/drive/MyDrive/ship_dataset_2/subset_valid_10/images/Gao_ship_hh_0201611139304013020.jpg: 224x224 (no detections), 83.7ms\n",
            "image 18/397 /content/drive/MyDrive/ship_dataset_2/subset_valid_10/images/Gao_ship_hh_020170107170401505.jpg: 224x224 (no detections), 82.8ms\n",
            "image 19/397 /content/drive/MyDrive/ship_dataset_2/subset_valid_10/images/Gao_ship_hh_02017012730020606.jpg: 224x224 (no detections), 83.1ms\n",
            "image 20/397 /content/drive/MyDrive/ship_dataset_2/subset_valid_10/images/Gao_ship_hh_020170127300505016.jpg: 224x224 (no detections), 83.6ms\n",
            "image 21/397 /content/drive/MyDrive/ship_dataset_2/subset_valid_10/images/Gao_ship_hh_0201701273101014011.jpg: 224x224 (no detections), 98.1ms\n",
            "image 22/397 /content/drive/MyDrive/ship_dataset_2/subset_valid_10/images/Gao_ship_hh_0201701297401014010.jpg: 224x224 (no detections), 83.6ms\n",
            "image 23/397 /content/drive/MyDrive/ship_dataset_2/subset_valid_10/images/Gao_ship_hh_02017012977020307.jpg: 224x224 (no detections), 84.2ms\n",
            "image 24/397 /content/drive/MyDrive/ship_dataset_2/subset_valid_10/images/Gao_ship_hh_02017012977020605.jpg: 224x224 (no detections), 85.5ms\n",
            "image 25/397 /content/drive/MyDrive/ship_dataset_2/subset_valid_10/images/Gao_ship_hh_02017012978010503.jpg: 224x224 (no detections), 86.0ms\n",
            "image 26/397 /content/drive/MyDrive/ship_dataset_2/subset_valid_10/images/Gao_ship_hh_020170213110101405.jpg: 224x224 (no detections), 82.5ms\n",
            "image 27/397 /content/drive/MyDrive/ship_dataset_2/subset_valid_10/images/Gao_ship_hh_020170213110308015.jpg: 224x224 (no detections), 81.6ms\n",
            "image 28/397 /content/drive/MyDrive/ship_dataset_2/subset_valid_10/images/Gao_ship_hh_0201702158001024015.jpg: 224x224 (no detections), 85.3ms\n",
            "image 29/397 /content/drive/MyDrive/ship_dataset_2/subset_valid_10/images/Gao_ship_hh_020170215800203107.jpg: 224x224 (no detections), 81.5ms\n",
            "image 30/397 /content/drive/MyDrive/ship_dataset_2/subset_valid_10/images/Gao_ship_hh_02017022715010803.jpg: 224x224 (no detections), 120.7ms\n",
            "image 31/397 /content/drive/MyDrive/ship_dataset_2/subset_valid_10/images/Gao_ship_hh_0201702275501014023.jpg: 224x224 (no detections), 141.4ms\n",
            "image 32/397 /content/drive/MyDrive/ship_dataset_2/subset_valid_10/images/Gao_ship_hh_0201703096802014032.jpg: 224x224 (no detections), 133.0ms\n",
            "image 33/397 /content/drive/MyDrive/ship_dataset_2/subset_valid_10/images/Gao_ship_hh_020170309680201605.jpg: 224x224 (no detections), 133.1ms\n",
            "image 34/397 /content/drive/MyDrive/ship_dataset_2/subset_valid_10/images/Gao_ship_hh_020170309680401039.jpg: 224x224 (no detections), 131.0ms\n",
            "image 35/397 /content/drive/MyDrive/ship_dataset_2/subset_valid_10/images/Gao_ship_hh_0201703096805015023.jpg: 224x224 (no detections), 136.3ms\n",
            "image 36/397 /content/drive/MyDrive/ship_dataset_2/subset_valid_10/images/Gao_ship_hh_0201703097001016027.jpg: 224x224 (no detections), 128.3ms\n",
            "image 37/397 /content/drive/MyDrive/ship_dataset_2/subset_valid_10/images/Gao_ship_hh_0201703097002017017.jpg: 224x224 (no detections), 130.2ms\n",
            "image 38/397 /content/drive/MyDrive/ship_dataset_2/subset_valid_10/images/Gao_ship_hh_0201703097002019034.jpg: 224x224 (no detections), 147.8ms\n",
            "image 39/397 /content/drive/MyDrive/ship_dataset_2/subset_valid_10/images/Gao_ship_hh_02017080981010709.jpg: 224x224 (no detections), 141.6ms\n",
            "image 40/397 /content/drive/MyDrive/ship_dataset_2/subset_valid_10/images/Gao_ship_hh_020170809810308011.jpg: 224x224 (no detections), 144.9ms\n",
            "image 41/397 /content/drive/MyDrive/ship_dataset_2/subset_valid_10/images/Gao_ship_hh_020170901290206010.jpg: 224x224 (no detections), 141.9ms\n",
            "image 42/397 /content/drive/MyDrive/ship_dataset_2/subset_valid_10/images/Gao_ship_hh_0201709013001014030.jpg: 224x224 (no detections), 125.5ms\n",
            "image 43/397 /content/drive/MyDrive/ship_dataset_2/subset_valid_10/images/Gao_ship_hh_020170901300406024.jpg: 224x224 (no detections), 127.8ms\n",
            "image 44/397 /content/drive/MyDrive/ship_dataset_2/subset_valid_10/images/Gao_ship_hh_020170901300503209.jpg: 224x224 (no detections), 136.0ms\n",
            "image 45/397 /content/drive/MyDrive/ship_dataset_2/subset_valid_10/images/Gao_ship_hh_0201709013008014015.jpg: 224x224 (no detections), 127.9ms\n",
            "image 46/397 /content/drive/MyDrive/ship_dataset_2/subset_valid_10/images/Gao_ship_hh_0201709013102014034.jpg: 224x224 (no detections), 134.8ms\n",
            "image 47/397 /content/drive/MyDrive/ship_dataset_2/subset_valid_10/images/Gao_ship_hh_0201709013105024032.jpg: 224x224 (no detections), 135.4ms\n",
            "image 48/397 /content/drive/MyDrive/ship_dataset_2/subset_valid_10/images/Gao_ship_hh_020170901310608033.jpg: 224x224 (no detections), 126.6ms\n",
            "image 49/397 /content/drive/MyDrive/ship_dataset_2/subset_valid_10/images/Gao_ship_hh_02017092627020607.jpg: 224x224 (no detections), 123.2ms\n",
            "image 50/397 /content/drive/MyDrive/ship_dataset_2/subset_valid_10/images/Gao_ship_hh_0201709262703015015.jpg: 224x224 (no detections), 121.7ms\n",
            "image 51/397 /content/drive/MyDrive/ship_dataset_2/subset_valid_10/images/Gao_ship_hh_020170926270302005.jpg: 224x224 (no detections), 135.6ms\n",
            "image 52/397 /content/drive/MyDrive/ship_dataset_2/subset_valid_10/images/Gao_ship_hh_020170926270302103.jpg: 224x224 (no detections), 137.1ms\n",
            "image 53/397 /content/drive/MyDrive/ship_dataset_2/subset_valid_10/images/Gao_ship_hh_0201710080501021025.jpg: 224x224 (no detections), 133.0ms\n",
            "image 54/397 /content/drive/MyDrive/ship_dataset_2/subset_valid_10/images/Gao_ship_hh_020171013360102011.jpg: 224x224 (no detections), 141.7ms\n",
            "image 55/397 /content/drive/MyDrive/ship_dataset_2/subset_valid_10/images/Gao_ship_hh_0201710200402012025.jpg: 224x224 (no detections), 153.3ms\n",
            "image 56/397 /content/drive/MyDrive/ship_dataset_2/subset_valid_10/images/Gao_ship_hh_020171021490109010.jpg: 224x224 (no detections), 136.2ms\n",
            "image 57/397 /content/drive/MyDrive/ship_dataset_2/subset_valid_10/images/Gao_ship_hh_02017102565020604.jpg: 224x224 (no detections), 132.5ms\n",
            "image 58/397 /content/drive/MyDrive/ship_dataset_2/subset_valid_10/images/Gao_ship_hh_020171118980102303.jpg: 224x224 (no detections), 97.6ms\n",
            "image 59/397 /content/drive/MyDrive/ship_dataset_2/subset_valid_10/images/Gao_ship_hh_0201712232201015018.jpg: 224x224 (no detections), 81.5ms\n",
            "image 60/397 /content/drive/MyDrive/ship_dataset_2/subset_valid_10/images/Gao_ship_hh_020180201890102020.jpg: 224x224 (no detections), 81.6ms\n",
            "image 61/397 /content/drive/MyDrive/ship_dataset_2/subset_valid_10/images/Gao_ship_hh_020180201890301007.jpg: 224x224 (no detections), 85.1ms\n",
            "image 62/397 /content/drive/MyDrive/ship_dataset_2/subset_valid_10/images/Gao_ship_hh_020180201890401505.jpg: 224x224 (no detections), 100.6ms\n",
            "image 63/397 /content/drive/MyDrive/ship_dataset_2/subset_valid_10/images/Gao_ship_hh_02018020189050906.jpg: 224x224 (no detections), 107.8ms\n",
            "image 64/397 /content/drive/MyDrive/ship_dataset_2/subset_valid_10/images/Gao_ship_hh_0201802192202010025.jpg: 224x224 (no detections), 99.0ms\n",
            "image 65/397 /content/drive/MyDrive/ship_dataset_2/subset_valid_10/images/Gao_ship_hh_020180219220201028.jpg: 224x224 (no detections), 80.7ms\n",
            "image 66/397 /content/drive/MyDrive/ship_dataset_2/subset_valid_10/images/Gao_ship_hh_0201802192203014038.jpg: 224x224 (no detections), 83.6ms\n",
            "image 67/397 /content/drive/MyDrive/ship_dataset_2/subset_valid_10/images/Gao_ship_hh_020180219220404021.jpg: 224x224 (no detections), 80.9ms\n",
            "image 68/397 /content/drive/MyDrive/ship_dataset_2/subset_valid_10/images/Gao_ship_hh_0201803032301039033.jpg: 224x224 (no detections), 84.7ms\n",
            "image 69/397 /content/drive/MyDrive/ship_dataset_2/subset_valid_10/images/Gao_ship_hh_0201803032301043033.jpg: 224x224 (no detections), 83.9ms\n",
            "image 70/397 /content/drive/MyDrive/ship_dataset_2/subset_valid_10/images/Gao_ship_hh_020180314670503022.jpg: 224x224 (no detections), 82.3ms\n",
            "image 71/397 /content/drive/MyDrive/ship_dataset_2/subset_valid_10/images/Gao_ship_hh_02018031543020206.jpg: 224x224 (no detections), 81.5ms\n",
            "image 72/397 /content/drive/MyDrive/ship_dataset_2/subset_valid_10/images/Gao_ship_hh_020180315430309010.jpg: 224x224 (no detections), 83.4ms\n",
            "image 73/397 /content/drive/MyDrive/ship_dataset_2/subset_valid_10/images/Gao_ship_hh_0201803154304021016.jpg: 224x224 (no detections), 80.6ms\n",
            "image 74/397 /content/drive/MyDrive/ship_dataset_2/subset_valid_10/images/Gao_ship_hh_020180315430403408.jpg: 224x224 (no detections), 85.1ms\n",
            "image 75/397 /content/drive/MyDrive/ship_dataset_2/subset_valid_10/images/Gao_ship_hh_02018032586010202.jpg: 224x224 (no detections), 99.6ms\n",
            "image 76/397 /content/drive/MyDrive/ship_dataset_2/subset_valid_10/images/Gao_ship_hh_020180325860205012.jpg: 224x224 (no detections), 80.9ms\n",
            "image 77/397 /content/drive/MyDrive/ship_dataset_2/subset_valid_10/images/Gao_ship_hv_0201608254401012053.jpg: 224x224 (no detections), 85.8ms\n",
            "image 78/397 /content/drive/MyDrive/ship_dataset_2/subset_valid_10/images/Gao_ship_hv_0201608254401020053.jpg: 224x224 (no detections), 85.3ms\n",
            "image 79/397 /content/drive/MyDrive/ship_dataset_2/subset_valid_10/images/Gao_ship_hv_020160825440109069.jpg: 224x224 (no detections), 85.0ms\n",
            "image 80/397 /content/drive/MyDrive/ship_dataset_2/subset_valid_10/images/Gao_ship_hv_0201608254402010028.jpg: 224x224 (no detections), 85.0ms\n",
            "image 81/397 /content/drive/MyDrive/ship_dataset_2/subset_valid_10/images/Gao_ship_hv_0201608254402012031.jpg: 224x224 (no detections), 80.4ms\n",
            "image 82/397 /content/drive/MyDrive/ship_dataset_2/subset_valid_10/images/Gao_ship_hv_0201608254402014015.jpg: 224x224 (no detections), 84.2ms\n",
            "image 83/397 /content/drive/MyDrive/ship_dataset_2/subset_valid_10/images/Gao_ship_hv_0201608254402022040.jpg: 224x224 (no detections), 83.1ms\n",
            "image 84/397 /content/drive/MyDrive/ship_dataset_2/subset_valid_10/images/Gao_ship_hv_020160825450101030.jpg: 224x224 (no detections), 86.1ms\n",
            "image 85/397 /content/drive/MyDrive/ship_dataset_2/subset_valid_10/images/Gao_ship_hv_0201608254501016030.jpg: 224x224 (no detections), 86.5ms\n",
            "image 86/397 /content/drive/MyDrive/ship_dataset_2/subset_valid_10/images/Gao_ship_hv_0201608254501026030.jpg: 224x224 (no detections), 90.6ms\n",
            "image 87/397 /content/drive/MyDrive/ship_dataset_2/subset_valid_10/images/Gao_ship_hv_020160825450201107.jpg: 224x224 (no detections), 87.6ms\n",
            "image 88/397 /content/drive/MyDrive/ship_dataset_2/subset_valid_10/images/Gao_ship_hv_0201611139301054048.jpg: 224x224 (no detections), 80.6ms\n",
            "image 89/397 /content/drive/MyDrive/ship_dataset_2/subset_valid_10/images/Gao_ship_hv_0201611139302027022.jpg: 224x224 (no detections), 84.9ms\n",
            "image 90/397 /content/drive/MyDrive/ship_dataset_2/subset_valid_10/images/Gao_ship_hv_020170107190107014.jpg: 224x224 (no detections), 90.9ms\n",
            "image 91/397 /content/drive/MyDrive/ship_dataset_2/subset_valid_10/images/Gao_ship_hv_020170107190201608.jpg: 224x224 (no detections), 82.3ms\n",
            "image 92/397 /content/drive/MyDrive/ship_dataset_2/subset_valid_10/images/Gao_ship_hv_02017010719020609.jpg: 224x224 (no detections), 79.6ms\n",
            "image 93/397 /content/drive/MyDrive/ship_dataset_2/subset_valid_10/images/Gao_ship_hv_020170129740101007.jpg: 224x224 (no detections), 83.0ms\n",
            "image 94/397 /content/drive/MyDrive/ship_dataset_2/subset_valid_10/images/Gao_ship_hv_02017012977030507.jpg: 224x224 (no detections), 82.6ms\n",
            "image 95/397 /content/drive/MyDrive/ship_dataset_2/subset_valid_10/images/Gao_ship_hv_0201702157902049044.jpg: 224x224 (no detections), 83.9ms\n",
            "image 96/397 /content/drive/MyDrive/ship_dataset_2/subset_valid_10/images/Gao_ship_hv_020170215800102013.jpg: 224x224 (no detections), 88.2ms\n",
            "image 97/397 /content/drive/MyDrive/ship_dataset_2/subset_valid_10/images/Gao_ship_hv_020170215800105013.jpg: 224x224 (no detections), 80.7ms\n",
            "image 98/397 /content/drive/MyDrive/ship_dataset_2/subset_valid_10/images/Gao_ship_hv_0201702158002030017.jpg: 224x224 (no detections), 102.3ms\n",
            "image 99/397 /content/drive/MyDrive/ship_dataset_2/subset_valid_10/images/Gao_ship_hv_0201702158002031017.jpg: 224x224 (no detections), 81.6ms\n",
            "image 100/397 /content/drive/MyDrive/ship_dataset_2/subset_valid_10/images/Gao_ship_hv_020170215800301005.jpg: 224x224 (no detections), 83.6ms\n",
            "image 101/397 /content/drive/MyDrive/ship_dataset_2/subset_valid_10/images/Gao_ship_hv_0201702271501013044.jpg: 224x224 (no detections), 83.9ms\n",
            "image 102/397 /content/drive/MyDrive/ship_dataset_2/subset_valid_10/images/Gao_ship_hv_020170227150206011.jpg: 224x224 (no detections), 80.1ms\n",
            "image 103/397 /content/drive/MyDrive/ship_dataset_2/subset_valid_10/images/Gao_ship_hv_0201702275501015039.jpg: 224x224 (no detections), 85.1ms\n",
            "image 104/397 /content/drive/MyDrive/ship_dataset_2/subset_valid_10/images/Gao_ship_hv_020170227550102205.jpg: 224x224 (no detections), 81.3ms\n",
            "image 105/397 /content/drive/MyDrive/ship_dataset_2/subset_valid_10/images/Gao_ship_hv_02017022755020807.jpg: 224x224 (no detections), 85.9ms\n",
            "image 106/397 /content/drive/MyDrive/ship_dataset_2/subset_valid_10/images/Gao_ship_hv_02017030968030704.jpg: 224x224 (no detections), 82.1ms\n",
            "image 107/397 /content/drive/MyDrive/ship_dataset_2/subset_valid_10/images/Gao_ship_hv_0201703096804014020.jpg: 224x224 (no detections), 86.8ms\n",
            "image 108/397 /content/drive/MyDrive/ship_dataset_2/subset_valid_10/images/Gao_ship_hv_0201703096805013012.jpg: 224x224 (no detections), 83.5ms\n",
            "image 109/397 /content/drive/MyDrive/ship_dataset_2/subset_valid_10/images/Gao_ship_hv_0201703096805014037.jpg: 224x224 (no detections), 101.7ms\n",
            "image 110/397 /content/drive/MyDrive/ship_dataset_2/subset_valid_10/images/Gao_ship_hv_0201703096805016039.jpg: 224x224 (no detections), 81.4ms\n",
            "image 111/397 /content/drive/MyDrive/ship_dataset_2/subset_valid_10/images/Gao_ship_hv_0201703097001012018.jpg: 224x224 (no detections), 81.3ms\n",
            "image 112/397 /content/drive/MyDrive/ship_dataset_2/subset_valid_10/images/Gao_ship_hv_0201703097001018030.jpg: 224x224 (no detections), 83.8ms\n",
            "image 113/397 /content/drive/MyDrive/ship_dataset_2/subset_valid_10/images/Gao_ship_hv_020170309700101904.jpg: 224x224 (no detections), 81.7ms\n",
            "image 114/397 /content/drive/MyDrive/ship_dataset_2/subset_valid_10/images/Gao_ship_hv_020170309700103015.jpg: 224x224 (no detections), 81.1ms\n",
            "image 115/397 /content/drive/MyDrive/ship_dataset_2/subset_valid_10/images/Gao_ship_hv_020170309700104008.jpg: 224x224 (no detections), 81.6ms\n",
            "image 116/397 /content/drive/MyDrive/ship_dataset_2/subset_valid_10/images/Gao_ship_hv_020170309700201103.jpg: 224x224 (no detections), 82.1ms\n",
            "image 117/397 /content/drive/MyDrive/ship_dataset_2/subset_valid_10/images/Gao_ship_hv_020170309700202039.jpg: 224x224 (no detections), 81.9ms\n",
            "image 118/397 /content/drive/MyDrive/ship_dataset_2/subset_valid_10/images/Gao_ship_hv_02017082494010304.jpg: 224x224 (no detections), 86.5ms\n",
            "image 119/397 /content/drive/MyDrive/ship_dataset_2/subset_valid_10/images/Gao_ship_hv_02017082494010608.jpg: 224x224 (no detections), 83.6ms\n",
            "image 120/397 /content/drive/MyDrive/ship_dataset_2/subset_valid_10/images/Gao_ship_hv_020170926270306026.jpg: 224x224 (no detections), 89.1ms\n",
            "image 121/397 /content/drive/MyDrive/ship_dataset_2/subset_valid_10/images/Gao_ship_hv_020170926280104022.jpg: 224x224 (no detections), 96.3ms\n",
            "image 122/397 /content/drive/MyDrive/ship_dataset_2/subset_valid_10/images/Gao_ship_hv_0201710214901010014.jpg: 224x224 (no detections), 85.6ms\n",
            "image 123/397 /content/drive/MyDrive/ship_dataset_2/subset_valid_10/images/Gao_ship_hv_0201710256501016029.jpg: 224x224 (no detections), 84.0ms\n",
            "image 124/397 /content/drive/MyDrive/ship_dataset_2/subset_valid_10/images/Gao_ship_hv_0201710256501021018.jpg: 224x224 (no detections), 83.8ms\n",
            "image 125/397 /content/drive/MyDrive/ship_dataset_2/subset_valid_10/images/Gao_ship_hv_020171118980102501.jpg: 224x224 (no detections), 80.2ms\n",
            "image 126/397 /content/drive/MyDrive/ship_dataset_2/subset_valid_10/images/Gao_ship_hv_020171118980107011.jpg: 224x224 (no detections), 82.8ms\n",
            "image 127/397 /content/drive/MyDrive/ship_dataset_2/subset_valid_10/images/Gao_ship_hv_0201801158701017036.jpg: 224x224 (no detections), 85.4ms\n",
            "image 128/397 /content/drive/MyDrive/ship_dataset_2/subset_valid_10/images/Gao_ship_hv_0201801158701034022.jpg: 224x224 (no detections), 85.9ms\n",
            "image 129/397 /content/drive/MyDrive/ship_dataset_2/subset_valid_10/images/Gao_ship_hv_020180115870204024.jpg: 224x224 (no detections), 85.5ms\n",
            "image 130/397 /content/drive/MyDrive/ship_dataset_2/subset_valid_10/images/Gao_ship_hv_020180115870206030.jpg: 224x224 (no detections), 82.0ms\n",
            "image 131/397 /content/drive/MyDrive/ship_dataset_2/subset_valid_10/images/Gao_ship_hv_0201801212902018020.jpg: 224x224 (no detections), 82.7ms\n",
            "image 132/397 /content/drive/MyDrive/ship_dataset_2/subset_valid_10/images/Gao_ship_hv_0201801212902025037.jpg: 224x224 (no detections), 101.2ms\n",
            "image 133/397 /content/drive/MyDrive/ship_dataset_2/subset_valid_10/images/Gao_ship_hv_020180201890101805.jpg: 224x224 (no detections), 88.3ms\n",
            "image 134/397 /content/drive/MyDrive/ship_dataset_2/subset_valid_10/images/Gao_ship_hv_020180201890301209.jpg: 224x224 (no detections), 86.6ms\n",
            "image 135/397 /content/drive/MyDrive/ship_dataset_2/subset_valid_10/images/Gao_ship_hv_020180201890309010.jpg: 224x224 (no detections), 84.9ms\n",
            "image 136/397 /content/drive/MyDrive/ship_dataset_2/subset_valid_10/images/Gao_ship_hv_0201802018905019040.jpg: 224x224 (no detections), 81.8ms\n",
            "image 137/397 /content/drive/MyDrive/ship_dataset_2/subset_valid_10/images/Gao_ship_hv_020180201890507013.jpg: 224x224 (no detections), 82.4ms\n",
            "image 138/397 /content/drive/MyDrive/ship_dataset_2/subset_valid_10/images/Gao_ship_hv_020180201890509025.jpg: 224x224 (no detections), 102.8ms\n",
            "image 139/397 /content/drive/MyDrive/ship_dataset_2/subset_valid_10/images/Gao_ship_hv_0201803032301039032.jpg: 224x224 (no detections), 89.0ms\n",
            "image 140/397 /content/drive/MyDrive/ship_dataset_2/subset_valid_10/images/Gao_ship_hv_0201803154301035011.jpg: 224x224 (no detections), 88.6ms\n",
            "image 141/397 /content/drive/MyDrive/ship_dataset_2/subset_valid_10/images/Gao_ship_vh_0201611300002012038.jpg: 224x224 (no detections), 84.5ms\n",
            "image 142/397 /content/drive/MyDrive/ship_dataset_2/subset_valid_10/images/Gao_ship_vh_0201611300002013038.jpg: 224x224 (no detections), 94.4ms\n",
            "image 143/397 /content/drive/MyDrive/ship_dataset_2/subset_valid_10/images/Gao_ship_vh_020161130030101001.jpg: 224x224 (no detections), 102.4ms\n",
            "image 144/397 /content/drive/MyDrive/ship_dataset_2/subset_valid_10/images/Gao_ship_vh_0201611300301012018.jpg: 224x224 (no detections), 86.3ms\n",
            "image 145/397 /content/drive/MyDrive/ship_dataset_2/subset_valid_10/images/Gao_ship_vh_020161130030203407.jpg: 224x224 (no detections), 83.4ms\n",
            "image 146/397 /content/drive/MyDrive/ship_dataset_2/subset_valid_10/images/Gao_ship_vh_020161130030406010.jpg: 224x224 (no detections), 82.5ms\n",
            "image 147/397 /content/drive/MyDrive/ship_dataset_2/subset_valid_10/images/Gao_ship_vh_02016113003050601.jpg: 224x224 (no detections), 82.3ms\n",
            "image 148/397 /content/drive/MyDrive/ship_dataset_2/subset_valid_10/images/Gao_ship_vh_0201611301601010015.jpg: 224x224 (no detections), 81.8ms\n",
            "image 149/397 /content/drive/MyDrive/ship_dataset_2/subset_valid_10/images/Gao_ship_vh_0201611301601010017.jpg: 224x224 (no detections), 84.3ms\n",
            "image 150/397 /content/drive/MyDrive/ship_dataset_2/subset_valid_10/images/Gao_ship_vh_020161130160203107.jpg: 224x224 (no detections), 83.2ms\n",
            "image 151/397 /content/drive/MyDrive/ship_dataset_2/subset_valid_10/images/Gao_ship_vh_020170107170105010.jpg: 224x224 (no detections), 81.0ms\n",
            "image 152/397 /content/drive/MyDrive/ship_dataset_2/subset_valid_10/images/Gao_ship_vh_020170107170301408.jpg: 224x224 (no detections), 87.1ms\n",
            "image 153/397 /content/drive/MyDrive/ship_dataset_2/subset_valid_10/images/Gao_ship_vh_020170107170409010.jpg: 224x224 (no detections), 82.7ms\n",
            "image 154/397 /content/drive/MyDrive/ship_dataset_2/subset_valid_10/images/Gao_ship_vh_0201701071902017011.jpg: 224x224 (no detections), 101.1ms\n",
            "image 155/397 /content/drive/MyDrive/ship_dataset_2/subset_valid_10/images/Gao_ship_vh_0201701156401024063.jpg: 224x224 (no detections), 90.1ms\n",
            "image 156/397 /content/drive/MyDrive/ship_dataset_2/subset_valid_10/images/Gao_ship_vh_0201701156401031062.jpg: 224x224 (no detections), 84.7ms\n",
            "image 157/397 /content/drive/MyDrive/ship_dataset_2/subset_valid_10/images/Gao_ship_vh_0201701156401049076.jpg: 224x224 (no detections), 83.8ms\n",
            "image 158/397 /content/drive/MyDrive/ship_dataset_2/subset_valid_10/images/Gao_ship_vh_020170115640109073.jpg: 224x224 (no detections), 82.2ms\n",
            "image 159/397 /content/drive/MyDrive/ship_dataset_2/subset_valid_10/images/Gao_ship_vh_020170115640201105.jpg: 224x224 (no detections), 82.1ms\n",
            "image 160/397 /content/drive/MyDrive/ship_dataset_2/subset_valid_10/images/Gao_ship_vh_0201701156404018015.jpg: 224x224 (no detections), 85.3ms\n",
            "image 161/397 /content/drive/MyDrive/ship_dataset_2/subset_valid_10/images/Gao_ship_vh_020170115640409035.jpg: 224x224 (no detections), 80.4ms\n",
            "image 162/397 /content/drive/MyDrive/ship_dataset_2/subset_valid_10/images/Gao_ship_vh_020170115650101407.jpg: 224x224 (no detections), 82.1ms\n",
            "image 163/397 /content/drive/MyDrive/ship_dataset_2/subset_valid_10/images/Gao_ship_vh_020170115650101804.jpg: 224x224 (no detections), 83.2ms\n",
            "image 164/397 /content/drive/MyDrive/ship_dataset_2/subset_valid_10/images/Gao_ship_vh_020170115650301707.jpg: 224x224 (no detections), 80.1ms\n",
            "image 165/397 /content/drive/MyDrive/ship_dataset_2/subset_valid_10/images/Gao_ship_vh_0201701156503022065.jpg: 224x224 (no detections), 114.1ms\n",
            "image 166/397 /content/drive/MyDrive/ship_dataset_2/subset_valid_10/images/Gao_ship_vh_020170115650305052.jpg: 224x224 (no detections), 138.6ms\n",
            "image 167/397 /content/drive/MyDrive/ship_dataset_2/subset_valid_10/images/Gao_ship_vh_02017011565030603.jpg: 224x224 (no detections), 133.9ms\n",
            "image 168/397 /content/drive/MyDrive/ship_dataset_2/subset_valid_10/images/Gao_ship_vh_020170115650309029.jpg: 224x224 (no detections), 127.7ms\n",
            "image 169/397 /content/drive/MyDrive/ship_dataset_2/subset_valid_10/images/Gao_ship_vh_0201701156505010027.jpg: 224x224 (no detections), 133.7ms\n",
            "image 170/397 /content/drive/MyDrive/ship_dataset_2/subset_valid_10/images/Gao_ship_vh_020170115650507030.jpg: 224x224 (no detections), 126.1ms\n",
            "image 171/397 /content/drive/MyDrive/ship_dataset_2/subset_valid_10/images/Gao_ship_vh_0201701156506018023.jpg: 224x224 (no detections), 127.7ms\n",
            "image 172/397 /content/drive/MyDrive/ship_dataset_2/subset_valid_10/images/Gao_ship_vh_020170115650602003.jpg: 224x224 (no detections), 123.7ms\n",
            "image 173/397 /content/drive/MyDrive/ship_dataset_2/subset_valid_10/images/Gao_ship_vh_020170115650602508.jpg: 224x224 (no detections), 129.4ms\n",
            "image 174/397 /content/drive/MyDrive/ship_dataset_2/subset_valid_10/images/Gao_ship_vh_0201701156506035011.jpg: 224x224 (no detections), 121.6ms\n",
            "image 175/397 /content/drive/MyDrive/ship_dataset_2/subset_valid_10/images/Gao_ship_vh_020170115650701902.jpg: 224x224 (no detections), 130.0ms\n",
            "image 176/397 /content/drive/MyDrive/ship_dataset_2/subset_valid_10/images/Gao_ship_vh_020170115650702002.jpg: 224x224 (no detections), 134.5ms\n",
            "image 177/397 /content/drive/MyDrive/ship_dataset_2/subset_valid_10/images/Gao_ship_vh_020170115650702102.jpg: 224x224 (no detections), 128.7ms\n",
            "image 178/397 /content/drive/MyDrive/ship_dataset_2/subset_valid_10/images/Gao_ship_vh_02017012977020708.jpg: 224x224 (no detections), 127.7ms\n",
            "image 179/397 /content/drive/MyDrive/ship_dataset_2/subset_valid_10/images/Gao_ship_vh_020170129780101011.jpg: 224x224 (no detections), 129.9ms\n",
            "image 180/397 /content/drive/MyDrive/ship_dataset_2/subset_valid_10/images/Gao_ship_vh_02017092243010102.jpg: 224x224 (no detections), 133.3ms\n",
            "image 181/397 /content/drive/MyDrive/ship_dataset_2/subset_valid_10/images/Gao_ship_vh_02017092243020202.jpg: 224x224 (no detections), 150.5ms\n",
            "image 182/397 /content/drive/MyDrive/ship_dataset_2/subset_valid_10/images/Gao_ship_vh_02017102149010402.jpg: 224x224 (no detections), 133.4ms\n",
            "image 183/397 /content/drive/MyDrive/ship_dataset_2/subset_valid_10/images/Gao_ship_vv_020161130030105027.jpg: 224x224 (no detections), 127.2ms\n",
            "image 184/397 /content/drive/MyDrive/ship_dataset_2/subset_valid_10/images/Gao_ship_vv_020161130030204109.jpg: 224x224 (no detections), 125.0ms\n",
            "image 185/397 /content/drive/MyDrive/ship_dataset_2/subset_valid_10/images/Gao_ship_vv_020161130030301205.jpg: 224x224 (no detections), 125.0ms\n",
            "image 186/397 /content/drive/MyDrive/ship_dataset_2/subset_valid_10/images/Gao_ship_vv_020161130030501804.jpg: 224x224 (no detections), 124.2ms\n",
            "image 187/397 /content/drive/MyDrive/ship_dataset_2/subset_valid_10/images/Gao_ship_vv_02016113016010807.jpg: 224x224 (no detections), 136.3ms\n",
            "image 188/397 /content/drive/MyDrive/ship_dataset_2/subset_valid_10/images/Gao_ship_vv_02016113016020109.jpg: 224x224 (no detections), 136.4ms\n",
            "image 189/397 /content/drive/MyDrive/ship_dataset_2/subset_valid_10/images/Gao_ship_vv_020161130160401401.jpg: 224x224 (no detections), 139.9ms\n",
            "image 190/397 /content/drive/MyDrive/ship_dataset_2/subset_valid_10/images/Gao_ship_vv_020170107190109014.jpg: 224x224 (no detections), 137.6ms\n",
            "image 191/397 /content/drive/MyDrive/ship_dataset_2/subset_valid_10/images/Gao_ship_vv_0201701156503012047.jpg: 224x224 (no detections), 139.4ms\n",
            "image 192/397 /content/drive/MyDrive/ship_dataset_2/subset_valid_10/images/Gao_ship_vv_020170115650508030.jpg: 224x224 (no detections), 130.7ms\n",
            "image 193/397 /content/drive/MyDrive/ship_dataset_2/subset_valid_10/images/Gao_ship_vv_020170115650702003.jpg: 224x224 (no detections), 132.1ms\n",
            "image 194/397 /content/drive/MyDrive/ship_dataset_2/subset_valid_10/images/Gao_ship_vv_02017012977010705.jpg: 224x224 (no detections), 117.7ms\n",
            "image 195/397 /content/drive/MyDrive/ship_dataset_2/subset_valid_10/images/Gao_ship_vv_02017012977020706.jpg: 224x224 (no detections), 86.1ms\n",
            "image 196/397 /content/drive/MyDrive/ship_dataset_2/subset_valid_10/images/Gao_ship_vv_02017012977040507.jpg: 224x224 (no detections), 85.1ms\n",
            "image 197/397 /content/drive/MyDrive/ship_dataset_2/subset_valid_10/images/Gao_ship_vv_020170129780202012.jpg: 224x224 (no detections), 85.9ms\n",
            "image 198/397 /content/drive/MyDrive/ship_dataset_2/subset_valid_10/images/Gao_ship_vv_02017101336010904.jpg: 224x224 (no detections), 98.6ms\n",
            "image 199/397 /content/drive/MyDrive/ship_dataset_2/subset_valid_10/images/Sen_ship_hh_0201606110101024.jpg: 224x224 (no detections), 87.2ms\n",
            "image 200/397 /content/drive/MyDrive/ship_dataset_2/subset_valid_10/images/Sen_ship_hh_02016061101038047.jpg: 224x224 (no detections), 83.1ms\n",
            "image 201/397 /content/drive/MyDrive/ship_dataset_2/subset_valid_10/images/Sen_ship_hh_02016070501038040.jpg: 224x224 (no detections), 80.4ms\n",
            "image 202/397 /content/drive/MyDrive/ship_dataset_2/subset_valid_10/images/Sen_ship_hh_02016070501044043.jpg: 224x224 (no detections), 82.9ms\n",
            "image 203/397 /content/drive/MyDrive/ship_dataset_2/subset_valid_10/images/Sen_ship_hh_02016071701015028.jpg: 224x224 (no detections), 85.2ms\n",
            "image 204/397 /content/drive/MyDrive/ship_dataset_2/subset_valid_10/images/Sen_ship_hh_02016071701033048.jpg: 224x224 (no detections), 82.2ms\n",
            "image 205/397 /content/drive/MyDrive/ship_dataset_2/subset_valid_10/images/Sen_ship_hh_02016071701048038.jpg: 224x224 (no detections), 83.8ms\n",
            "image 206/397 /content/drive/MyDrive/ship_dataset_2/subset_valid_10/images/Sen_ship_hh_02016081001034040.jpg: 224x224 (no detections), 86.6ms\n",
            "image 207/397 /content/drive/MyDrive/ship_dataset_2/subset_valid_10/images/Sen_ship_hh_02016081001036038.jpg: 224x224 (no detections), 82.2ms\n",
            "image 208/397 /content/drive/MyDrive/ship_dataset_2/subset_valid_10/images/Sen_ship_hh_02016082201014024.jpg: 224x224 (no detections), 85.2ms\n",
            "image 209/397 /content/drive/MyDrive/ship_dataset_2/subset_valid_10/images/Sen_ship_hh_02016082201031050.jpg: 224x224 (no detections), 84.4ms\n",
            "image 210/397 /content/drive/MyDrive/ship_dataset_2/subset_valid_10/images/Sen_ship_hh_02016082201049029.jpg: 224x224 (no detections), 106.2ms\n",
            "image 211/397 /content/drive/MyDrive/ship_dataset_2/subset_valid_10/images/Sen_ship_hh_02016082201051034.jpg: 224x224 (no detections), 83.3ms\n",
            "image 212/397 /content/drive/MyDrive/ship_dataset_2/subset_valid_10/images/Sen_ship_hh_0201608220209016.jpg: 224x224 (no detections), 81.2ms\n",
            "image 213/397 /content/drive/MyDrive/ship_dataset_2/subset_valid_10/images/Sen_ship_hh_02016090301016023.jpg: 224x224 (no detections), 84.7ms\n",
            "image 214/397 /content/drive/MyDrive/ship_dataset_2/subset_valid_10/images/Sen_ship_hh_0201609030103036.jpg: 224x224 (no detections), 81.0ms\n",
            "image 215/397 /content/drive/MyDrive/ship_dataset_2/subset_valid_10/images/Sen_ship_hh_02016090301046025.jpg: 224x224 (no detections), 84.4ms\n",
            "image 216/397 /content/drive/MyDrive/ship_dataset_2/subset_valid_10/images/Sen_ship_hh_02016090302011011.jpg: 224x224 (no detections), 85.3ms\n",
            "image 217/397 /content/drive/MyDrive/ship_dataset_2/subset_valid_10/images/Sen_ship_hh_0201609150202605.jpg: 224x224 (no detections), 86.3ms\n",
            "image 218/397 /content/drive/MyDrive/ship_dataset_2/subset_valid_10/images/Sen_ship_hh_02016092801016033.jpg: 224x224 (no detections), 83.9ms\n",
            "image 219/397 /content/drive/MyDrive/ship_dataset_2/subset_valid_10/images/Sen_ship_hh_02016101501031041.jpg: 224x224 (no detections), 85.6ms\n",
            "image 220/397 /content/drive/MyDrive/ship_dataset_2/subset_valid_10/images/Sen_ship_hh_0201610150201018.jpg: 224x224 (no detections), 85.4ms\n",
            "image 221/397 /content/drive/MyDrive/ship_dataset_2/subset_valid_10/images/Sen_ship_hh_0201610150204018.jpg: 224x224 (no detections), 103.7ms\n",
            "image 222/397 /content/drive/MyDrive/ship_dataset_2/subset_valid_10/images/Sen_ship_hh_02016102204023017.jpg: 224x224 (no detections), 83.9ms\n",
            "image 223/397 /content/drive/MyDrive/ship_dataset_2/subset_valid_10/images/Sen_ship_hh_02016102701033030.jpg: 224x224 (no detections), 81.3ms\n",
            "image 224/397 /content/drive/MyDrive/ship_dataset_2/subset_valid_10/images/Sen_ship_hh_0201610270201806.jpg: 224x224 (no detections), 83.4ms\n",
            "image 225/397 /content/drive/MyDrive/ship_dataset_2/subset_valid_10/images/Sen_ship_hh_0201610270202206.jpg: 224x224 (no detections), 82.1ms\n",
            "image 226/397 /content/drive/MyDrive/ship_dataset_2/subset_valid_10/images/Sen_ship_hh_02016110801025049.jpg: 224x224 (no detections), 81.4ms\n",
            "image 227/397 /content/drive/MyDrive/ship_dataset_2/subset_valid_10/images/Sen_ship_hh_0201611270209107.jpg: 224x224 (no detections), 83.9ms\n",
            "image 228/397 /content/drive/MyDrive/ship_dataset_2/subset_valid_10/images/Sen_ship_hh_02016120201032026.jpg: 224x224 (no detections), 89.4ms\n",
            "image 229/397 /content/drive/MyDrive/ship_dataset_2/subset_valid_10/images/Sen_ship_hh_02016120201045045.jpg: 224x224 (no detections), 82.7ms\n",
            "image 230/397 /content/drive/MyDrive/ship_dataset_2/subset_valid_10/images/Sen_ship_hh_02016121401026048.jpg: 224x224 (no detections), 85.8ms\n",
            "image 231/397 /content/drive/MyDrive/ship_dataset_2/subset_valid_10/images/Sen_ship_hh_02016121401053011.jpg: 224x224 (no detections), 85.2ms\n",
            "image 232/397 /content/drive/MyDrive/ship_dataset_2/subset_valid_10/images/Sen_ship_hh_0201612210202504.jpg: 224x224 (no detections), 107.6ms\n",
            "image 233/397 /content/drive/MyDrive/ship_dataset_2/subset_valid_10/images/Sen_ship_hh_02016122601016015.jpg: 224x224 (no detections), 99.2ms\n",
            "image 234/397 /content/drive/MyDrive/ship_dataset_2/subset_valid_10/images/Sen_ship_hh_02016122601022056.jpg: 224x224 (no detections), 80.7ms\n",
            "image 235/397 /content/drive/MyDrive/ship_dataset_2/subset_valid_10/images/Sen_ship_hh_02016122601024053.jpg: 224x224 (no detections), 88.6ms\n",
            "image 236/397 /content/drive/MyDrive/ship_dataset_2/subset_valid_10/images/Sen_ship_hh_02016122601044036.jpg: 224x224 (no detections), 82.8ms\n",
            "image 237/397 /content/drive/MyDrive/ship_dataset_2/subset_valid_10/images/Sen_ship_hh_0201701070103027.jpg: 224x224 (no detections), 96.3ms\n",
            "image 238/397 /content/drive/MyDrive/ship_dataset_2/subset_valid_10/images/Sen_ship_hh_02017010701043043.jpg: 224x224 (no detections), 83.9ms\n",
            "image 239/397 /content/drive/MyDrive/ship_dataset_2/subset_valid_10/images/Sen_ship_hh_0201701070201705.jpg: 224x224 (no detections), 80.9ms\n",
            "image 240/397 /content/drive/MyDrive/ship_dataset_2/subset_valid_10/images/Sen_ship_hh_0201702120102045.jpg: 224x224 (no detections), 84.9ms\n",
            "image 241/397 /content/drive/MyDrive/ship_dataset_2/subset_valid_10/images/Sen_ship_hh_02017022401017025.jpg: 224x224 (no detections), 81.0ms\n",
            "image 242/397 /content/drive/MyDrive/ship_dataset_2/subset_valid_10/images/Sen_ship_hh_02017022401026011.jpg: 224x224 (no detections), 89.5ms\n",
            "image 243/397 /content/drive/MyDrive/ship_dataset_2/subset_valid_10/images/Sen_ship_hh_0201702240201601.jpg: 224x224 (no detections), 108.6ms\n",
            "image 244/397 /content/drive/MyDrive/ship_dataset_2/subset_valid_10/images/Sen_ship_hh_02017030301011054.jpg: 224x224 (no detections), 80.6ms\n",
            "image 245/397 /content/drive/MyDrive/ship_dataset_2/subset_valid_10/images/Sen_ship_hh_0201703030203023.jpg: 224x224 (no detections), 83.7ms\n",
            "image 246/397 /content/drive/MyDrive/ship_dataset_2/subset_valid_10/images/Sen_ship_hh_02017040101026017.jpg: 224x224 (no detections), 83.0ms\n",
            "image 247/397 /content/drive/MyDrive/ship_dataset_2/subset_valid_10/images/Sen_ship_hh_02017040101036048.jpg: 224x224 (no detections), 84.3ms\n",
            "image 248/397 /content/drive/MyDrive/ship_dataset_2/subset_valid_10/images/Sen_ship_hh_02017040101038038.jpg: 224x224 (no detections), 82.8ms\n",
            "image 249/397 /content/drive/MyDrive/ship_dataset_2/subset_valid_10/images/Sen_ship_hh_02017040101045034.jpg: 224x224 (no detections), 87.9ms\n",
            "image 250/397 /content/drive/MyDrive/ship_dataset_2/subset_valid_10/images/Sen_ship_hh_0201704010107027.jpg: 224x224 (no detections), 82.1ms\n",
            "image 251/397 /content/drive/MyDrive/ship_dataset_2/subset_valid_10/images/Sen_ship_hh_0201704010201019.jpg: 224x224 (no detections), 81.7ms\n",
            "image 252/397 /content/drive/MyDrive/ship_dataset_2/subset_valid_10/images/Sen_ship_hh_0201704130102902.jpg: 224x224 (no detections), 83.9ms\n",
            "image 253/397 /content/drive/MyDrive/ship_dataset_2/subset_valid_10/images/Sen_ship_hh_02017051901022050.jpg: 224x224 (no detections), 84.0ms\n",
            "image 254/397 /content/drive/MyDrive/ship_dataset_2/subset_valid_10/images/Sen_ship_hh_0201705190105405.jpg: 224x224 (no detections), 84.9ms\n",
            "image 255/397 /content/drive/MyDrive/ship_dataset_2/subset_valid_10/images/Sen_ship_hh_02017053101013021.jpg: 224x224 (no detections), 90.2ms\n",
            "image 256/397 /content/drive/MyDrive/ship_dataset_2/subset_valid_10/images/Sen_ship_hh_02017053101026010.jpg: 224x224 (no detections), 84.3ms\n",
            "image 257/397 /content/drive/MyDrive/ship_dataset_2/subset_valid_10/images/Sen_ship_hh_02017053101030047.jpg: 224x224 (no detections), 80.6ms\n",
            "image 258/397 /content/drive/MyDrive/ship_dataset_2/subset_valid_10/images/Sen_ship_hh_02017071801030049.jpg: 224x224 (no detections), 84.8ms\n",
            "image 259/397 /content/drive/MyDrive/ship_dataset_2/subset_valid_10/images/Sen_ship_hh_02017071801035054.jpg: 224x224 (no detections), 80.6ms\n",
            "image 260/397 /content/drive/MyDrive/ship_dataset_2/subset_valid_10/images/Sen_ship_hh_02017091601014018.jpg: 224x224 (no detections), 85.5ms\n",
            "image 261/397 /content/drive/MyDrive/ship_dataset_2/subset_valid_10/images/Sen_ship_hh_0201709160101709.jpg: 224x224 (no detections), 81.8ms\n",
            "image 262/397 /content/drive/MyDrive/ship_dataset_2/subset_valid_10/images/Sen_ship_hh_02017091601018010.jpg: 224x224 (no detections), 86.7ms\n",
            "image 263/397 /content/drive/MyDrive/ship_dataset_2/subset_valid_10/images/Sen_ship_hh_02017091601038019.jpg: 224x224 (no detections), 81.6ms\n",
            "image 264/397 /content/drive/MyDrive/ship_dataset_2/subset_valid_10/images/Sen_ship_hh_02017102201017019.jpg: 224x224 (no detections), 85.8ms\n",
            "image 265/397 /content/drive/MyDrive/ship_dataset_2/subset_valid_10/images/Sen_ship_hh_02017102201041012.jpg: 224x224 (no detections), 81.8ms\n",
            "image 266/397 /content/drive/MyDrive/ship_dataset_2/subset_valid_10/images/Sen_ship_hh_0201710220108024.jpg: 224x224 (no detections), 96.1ms\n",
            "image 267/397 /content/drive/MyDrive/ship_dataset_2/subset_valid_10/images/Sen_ship_hh_02017102901050043.jpg: 224x224 (no detections), 86.0ms\n",
            "image 268/397 /content/drive/MyDrive/ship_dataset_2/subset_valid_10/images/Sen_ship_hh_02017110301030075.jpg: 224x224 (no detections), 82.2ms\n",
            "image 269/397 /content/drive/MyDrive/ship_dataset_2/subset_valid_10/images/Sen_ship_hh_02017110301037062.jpg: 224x224 (no detections), 85.1ms\n",
            "image 270/397 /content/drive/MyDrive/ship_dataset_2/subset_valid_10/images/Sen_ship_hh_02017110301041065.jpg: 224x224 (no detections), 82.7ms\n",
            "image 271/397 /content/drive/MyDrive/ship_dataset_2/subset_valid_10/images/Sen_ship_hh_02017110301049054.jpg: 224x224 (no detections), 87.0ms\n",
            "image 272/397 /content/drive/MyDrive/ship_dataset_2/subset_valid_10/images/Sen_ship_hh_02017112701027043.jpg: 224x224 (no detections), 81.1ms\n",
            "image 273/397 /content/drive/MyDrive/ship_dataset_2/subset_valid_10/images/Sen_ship_hh_02017112701042013.jpg: 224x224 (no detections), 81.3ms\n",
            "image 274/397 /content/drive/MyDrive/ship_dataset_2/subset_valid_10/images/Sen_ship_hh_02017112702014027.jpg: 224x224 (no detections), 79.5ms\n",
            "image 275/397 /content/drive/MyDrive/ship_dataset_2/subset_valid_10/images/Sen_ship_hh_02018010902011020.jpg: 224x224 (no detections), 87.7ms\n",
            "image 276/397 /content/drive/MyDrive/ship_dataset_2/subset_valid_10/images/Sen_ship_hh_02018012601041034.jpg: 224x224 (no detections), 86.5ms\n",
            "image 277/397 /content/drive/MyDrive/ship_dataset_2/subset_valid_10/images/Sen_ship_hv_02016061101039037.jpg: 224x224 (no detections), 94.0ms\n",
            "image 278/397 /content/drive/MyDrive/ship_dataset_2/subset_valid_10/images/Sen_ship_hv_0201606110105709.jpg: 224x224 (no detections), 89.0ms\n",
            "image 279/397 /content/drive/MyDrive/ship_dataset_2/subset_valid_10/images/Sen_ship_hv_02016070501029047.jpg: 224x224 (no detections), 83.2ms\n",
            "image 280/397 /content/drive/MyDrive/ship_dataset_2/subset_valid_10/images/Sen_ship_hv_02016070501039040.jpg: 224x224 (no detections), 85.3ms\n",
            "image 281/397 /content/drive/MyDrive/ship_dataset_2/subset_valid_10/images/Sen_ship_hv_0201607050105803.jpg: 224x224 (no detections), 83.0ms\n",
            "image 282/397 /content/drive/MyDrive/ship_dataset_2/subset_valid_10/images/Sen_ship_hv_02016071701011038.jpg: 224x224 (no detections), 85.4ms\n",
            "image 283/397 /content/drive/MyDrive/ship_dataset_2/subset_valid_10/images/Sen_ship_hv_02016071701044043.jpg: 224x224 (no detections), 82.4ms\n",
            "image 284/397 /content/drive/MyDrive/ship_dataset_2/subset_valid_10/images/Sen_ship_hv_0201607170201207.jpg: 224x224 (no detections), 83.9ms\n",
            "image 285/397 /content/drive/MyDrive/ship_dataset_2/subset_valid_10/images/Sen_ship_hv_02016072901031044.jpg: 224x224 (no detections), 82.1ms\n",
            "image 286/397 /content/drive/MyDrive/ship_dataset_2/subset_valid_10/images/Sen_ship_hv_02016072901034036.jpg: 224x224 (no detections), 85.6ms\n",
            "image 287/397 /content/drive/MyDrive/ship_dataset_2/subset_valid_10/images/Sen_ship_hv_02016081001010017.jpg: 224x224 (no detections), 83.5ms\n",
            "image 288/397 /content/drive/MyDrive/ship_dataset_2/subset_valid_10/images/Sen_ship_hv_0201608100102207.jpg: 224x224 (no detections), 83.8ms\n",
            "image 289/397 /content/drive/MyDrive/ship_dataset_2/subset_valid_10/images/Sen_ship_hv_02016082201024023.jpg: 224x224 (no detections), 98.4ms\n",
            "image 290/397 /content/drive/MyDrive/ship_dataset_2/subset_valid_10/images/Sen_ship_hv_02016082201047026.jpg: 224x224 (no detections), 85.3ms\n",
            "image 291/397 /content/drive/MyDrive/ship_dataset_2/subset_valid_10/images/Sen_ship_hv_02016082201052034.jpg: 224x224 (no detections), 84.0ms\n",
            "image 292/397 /content/drive/MyDrive/ship_dataset_2/subset_valid_10/images/Sen_ship_hv_02016082202012014.jpg: 224x224 (no detections), 89.3ms\n",
            "image 293/397 /content/drive/MyDrive/ship_dataset_2/subset_valid_10/images/Sen_ship_hv_02016090301021021.jpg: 224x224 (no detections), 81.7ms\n",
            "image 294/397 /content/drive/MyDrive/ship_dataset_2/subset_valid_10/images/Sen_ship_hv_02016090301027010.jpg: 224x224 (no detections), 86.1ms\n",
            "image 295/397 /content/drive/MyDrive/ship_dataset_2/subset_valid_10/images/Sen_ship_hv_02016091501028026.jpg: 224x224 (no detections), 85.7ms\n",
            "image 296/397 /content/drive/MyDrive/ship_dataset_2/subset_valid_10/images/Sen_ship_hv_02016091501028051.jpg: 224x224 (no detections), 85.4ms\n",
            "image 297/397 /content/drive/MyDrive/ship_dataset_2/subset_valid_10/images/Sen_ship_hv_0201609280103805.jpg: 224x224 (no detections), 84.8ms\n",
            "image 298/397 /content/drive/MyDrive/ship_dataset_2/subset_valid_10/images/Sen_ship_hv_0201609280106406.jpg: 224x224 (no detections), 82.1ms\n",
            "image 299/397 /content/drive/MyDrive/ship_dataset_2/subset_valid_10/images/Sen_ship_hv_02016101501022016.jpg: 224x224 (no detections), 84.4ms\n",
            "image 300/397 /content/drive/MyDrive/ship_dataset_2/subset_valid_10/images/Sen_ship_hv_02016101501027014.jpg: 224x224 (no detections), 99.5ms\n",
            "image 301/397 /content/drive/MyDrive/ship_dataset_2/subset_valid_10/images/Sen_ship_hv_02016102203014016.jpg: 224x224 (no detections), 82.1ms\n",
            "image 302/397 /content/drive/MyDrive/ship_dataset_2/subset_valid_10/images/Sen_ship_hv_02016102701038038.jpg: 224x224 (no detections), 111.0ms\n",
            "image 303/397 /content/drive/MyDrive/ship_dataset_2/subset_valid_10/images/Sen_ship_hv_02016102701047030.jpg: 224x224 (no detections), 131.3ms\n",
            "image 304/397 /content/drive/MyDrive/ship_dataset_2/subset_valid_10/images/Sen_ship_hv_02016110801019014.jpg: 224x224 (no detections), 127.0ms\n",
            "image 305/397 /content/drive/MyDrive/ship_dataset_2/subset_valid_10/images/Sen_ship_hv_02016110801036039.jpg: 224x224 (no detections), 128.6ms\n",
            "image 306/397 /content/drive/MyDrive/ship_dataset_2/subset_valid_10/images/Sen_ship_hv_02016110801045030.jpg: 224x224 (no detections), 130.9ms\n",
            "image 307/397 /content/drive/MyDrive/ship_dataset_2/subset_valid_10/images/Sen_ship_hv_02016110801055013.jpg: 224x224 (no detections), 127.3ms\n",
            "image 308/397 /content/drive/MyDrive/ship_dataset_2/subset_valid_10/images/Sen_ship_hv_0201611270202025.jpg: 224x224 (no detections), 143.9ms\n",
            "image 309/397 /content/drive/MyDrive/ship_dataset_2/subset_valid_10/images/Sen_ship_hv_02016120201027015.jpg: 224x224 (no detections), 132.1ms\n",
            "image 310/397 /content/drive/MyDrive/ship_dataset_2/subset_valid_10/images/Sen_ship_hv_02016120201035017.jpg: 224x224 (no detections), 127.7ms\n",
            "image 311/397 /content/drive/MyDrive/ship_dataset_2/subset_valid_10/images/Sen_ship_hv_02016120201046040.jpg: 224x224 (no detections), 122.0ms\n",
            "image 312/397 /content/drive/MyDrive/ship_dataset_2/subset_valid_10/images/Sen_ship_hv_02016121401053011.jpg: 224x224 (no detections), 131.4ms\n",
            "image 313/397 /content/drive/MyDrive/ship_dataset_2/subset_valid_10/images/Sen_ship_hv_0201612210202306.jpg: 224x224 (no detections), 124.2ms\n",
            "image 314/397 /content/drive/MyDrive/ship_dataset_2/subset_valid_10/images/Sen_ship_hv_02016122601020035.jpg: 224x224 (no detections), 135.0ms\n",
            "image 315/397 /content/drive/MyDrive/ship_dataset_2/subset_valid_10/images/Sen_ship_hv_02016122601021021.jpg: 224x224 (no detections), 126.2ms\n",
            "image 316/397 /content/drive/MyDrive/ship_dataset_2/subset_valid_10/images/Sen_ship_hv_02016122601039041.jpg: 224x224 (no detections), 130.3ms\n",
            "image 317/397 /content/drive/MyDrive/ship_dataset_2/subset_valid_10/images/Sen_ship_hv_0201612260201701.jpg: 224x224 (no detections), 129.0ms\n",
            "image 318/397 /content/drive/MyDrive/ship_dataset_2/subset_valid_10/images/Sen_ship_hv_02017010701033044.jpg: 224x224 (no detections), 128.5ms\n",
            "image 319/397 /content/drive/MyDrive/ship_dataset_2/subset_valid_10/images/Sen_ship_hv_02017010701038038.jpg: 224x224 (no detections), 132.1ms\n",
            "image 320/397 /content/drive/MyDrive/ship_dataset_2/subset_valid_10/images/Sen_ship_hv_02017010701043033.jpg: 224x224 (no detections), 132.3ms\n",
            "image 321/397 /content/drive/MyDrive/ship_dataset_2/subset_valid_10/images/Sen_ship_hv_02017013101018037.jpg: 224x224 (no detections), 128.1ms\n",
            "image 322/397 /content/drive/MyDrive/ship_dataset_2/subset_valid_10/images/Sen_ship_hv_02017013101039052.jpg: 224x224 (no detections), 126.0ms\n",
            "image 323/397 /content/drive/MyDrive/ship_dataset_2/subset_valid_10/images/Sen_ship_hv_02017013101054018.jpg: 224x224 (no detections), 122.7ms\n",
            "image 324/397 /content/drive/MyDrive/ship_dataset_2/subset_valid_10/images/Sen_ship_hv_02017021201020025.jpg: 224x224 (no detections), 135.9ms\n",
            "image 325/397 /content/drive/MyDrive/ship_dataset_2/subset_valid_10/images/Sen_ship_hv_02017022401011031.jpg: 224x224 (no detections), 142.7ms\n",
            "image 326/397 /content/drive/MyDrive/ship_dataset_2/subset_valid_10/images/Sen_ship_hv_0201702240103109.jpg: 224x224 (no detections), 132.0ms\n",
            "image 327/397 /content/drive/MyDrive/ship_dataset_2/subset_valid_10/images/Sen_ship_hv_02017022401041032.jpg: 224x224 (no detections), 138.7ms\n",
            "image 328/397 /content/drive/MyDrive/ship_dataset_2/subset_valid_10/images/Sen_ship_hv_02017022401041033.jpg: 224x224 (no detections), 136.3ms\n",
            "image 329/397 /content/drive/MyDrive/ship_dataset_2/subset_valid_10/images/Sen_ship_hv_02017030301023039.jpg: 224x224 (no detections), 137.9ms\n",
            "image 330/397 /content/drive/MyDrive/ship_dataset_2/subset_valid_10/images/Sen_ship_hv_02017030301045051.jpg: 224x224 (no detections), 144.5ms\n",
            "image 331/397 /content/drive/MyDrive/ship_dataset_2/subset_valid_10/images/Sen_ship_hv_02017030301056049.jpg: 224x224 (no detections), 147.0ms\n",
            "image 332/397 /content/drive/MyDrive/ship_dataset_2/subset_valid_10/images/Sen_ship_hv_02017030801022014.jpg: 224x224 (no detections), 94.9ms\n",
            "image 333/397 /content/drive/MyDrive/ship_dataset_2/subset_valid_10/images/Sen_ship_hv_02017030801030010.jpg: 224x224 (no detections), 85.7ms\n",
            "image 334/397 /content/drive/MyDrive/ship_dataset_2/subset_valid_10/images/Sen_ship_hv_02017030801030026.jpg: 224x224 (no detections), 86.0ms\n",
            "image 335/397 /content/drive/MyDrive/ship_dataset_2/subset_valid_10/images/Sen_ship_hv_02017032001041032.jpg: 224x224 (no detections), 98.3ms\n",
            "image 336/397 /content/drive/MyDrive/ship_dataset_2/subset_valid_10/images/Sen_ship_hv_02017032001042037.jpg: 224x224 (no detections), 87.3ms\n",
            "image 337/397 /content/drive/MyDrive/ship_dataset_2/subset_valid_10/images/Sen_ship_hv_0201703200105706.jpg: 224x224 (no detections), 84.1ms\n",
            "image 338/397 /content/drive/MyDrive/ship_dataset_2/subset_valid_10/images/Sen_ship_hv_0201703200202609.jpg: 224x224 (no detections), 83.6ms\n",
            "image 339/397 /content/drive/MyDrive/ship_dataset_2/subset_valid_10/images/Sen_ship_hv_02017040101026035.jpg: 224x224 (no detections), 81.9ms\n",
            "image 340/397 /content/drive/MyDrive/ship_dataset_2/subset_valid_10/images/Sen_ship_hv_0201704130102903.jpg: 224x224 (no detections), 86.6ms\n",
            "image 341/397 /content/drive/MyDrive/ship_dataset_2/subset_valid_10/images/Sen_ship_hv_02017050701022015.jpg: 224x224 (no detections), 81.5ms\n",
            "image 342/397 /content/drive/MyDrive/ship_dataset_2/subset_valid_10/images/Sen_ship_hv_02017053101027018.jpg: 224x224 (no detections), 83.1ms\n",
            "image 343/397 /content/drive/MyDrive/ship_dataset_2/subset_valid_10/images/Sen_ship_hv_02017053101031022.jpg: 224x224 (no detections), 100.9ms\n",
            "image 344/397 /content/drive/MyDrive/ship_dataset_2/subset_valid_10/images/Sen_ship_hv_0201707180202601.jpg: 224x224 (no detections), 81.8ms\n",
            "image 345/397 /content/drive/MyDrive/ship_dataset_2/subset_valid_10/images/Sen_ship_hv_0201707180205021.jpg: 224x224 (no detections), 81.8ms\n",
            "image 346/397 /content/drive/MyDrive/ship_dataset_2/subset_valid_10/images/Sen_ship_hv_0201709160102035.jpg: 224x224 (no detections), 84.8ms\n",
            "image 347/397 /content/drive/MyDrive/ship_dataset_2/subset_valid_10/images/Sen_ship_hv_0201709160102905.jpg: 224x224 (no detections), 81.3ms\n",
            "image 348/397 /content/drive/MyDrive/ship_dataset_2/subset_valid_10/images/Sen_ship_hv_02017091601049030.jpg: 224x224 (no detections), 80.5ms\n",
            "image 349/397 /content/drive/MyDrive/ship_dataset_2/subset_valid_10/images/Sen_ship_hv_02017102201021043.jpg: 224x224 (no detections), 81.7ms\n",
            "image 350/397 /content/drive/MyDrive/ship_dataset_2/subset_valid_10/images/Sen_ship_hv_02017102201030038.jpg: 224x224 (no detections), 83.1ms\n",
            "image 351/397 /content/drive/MyDrive/ship_dataset_2/subset_valid_10/images/Sen_ship_hv_0201710220103903.jpg: 224x224 (no detections), 80.4ms\n",
            "image 352/397 /content/drive/MyDrive/ship_dataset_2/subset_valid_10/images/Sen_ship_hv_0201710220104206.jpg: 224x224 (no detections), 80.9ms\n",
            "image 353/397 /content/drive/MyDrive/ship_dataset_2/subset_valid_10/images/Sen_ship_hv_02017102902017016.jpg: 224x224 (no detections), 84.3ms\n",
            "image 354/397 /content/drive/MyDrive/ship_dataset_2/subset_valid_10/images/Sen_ship_hv_02017110301029074.jpg: 224x224 (no detections), 99.6ms\n",
            "image 355/397 /content/drive/MyDrive/ship_dataset_2/subset_valid_10/images/Sen_ship_hv_02017110301029075.jpg: 224x224 (no detections), 94.8ms\n",
            "image 356/397 /content/drive/MyDrive/ship_dataset_2/subset_valid_10/images/Sen_ship_hv_02017110301030038.jpg: 224x224 (no detections), 83.3ms\n",
            "image 357/397 /content/drive/MyDrive/ship_dataset_2/subset_valid_10/images/Sen_ship_hv_02017110301042062.jpg: 224x224 (no detections), 110.5ms\n",
            "image 358/397 /content/drive/MyDrive/ship_dataset_2/subset_valid_10/images/Sen_ship_hv_02017110301050055.jpg: 224x224 (no detections), 85.5ms\n",
            "image 359/397 /content/drive/MyDrive/ship_dataset_2/subset_valid_10/images/Sen_ship_hv_0201711270105042.jpg: 224x224 (no detections), 82.5ms\n",
            "image 360/397 /content/drive/MyDrive/ship_dataset_2/subset_valid_10/images/Sen_ship_hv_02018010201021029.jpg: 224x224 (no detections), 85.6ms\n",
            "image 361/397 /content/drive/MyDrive/ship_dataset_2/subset_valid_10/images/Sen_ship_hv_0201801020102707.jpg: 224x224 (no detections), 81.6ms\n",
            "image 362/397 /content/drive/MyDrive/ship_dataset_2/subset_valid_10/images/Sen_ship_hv_02018011401024043.jpg: 224x224 (no detections), 81.2ms\n",
            "image 363/397 /content/drive/MyDrive/ship_dataset_2/subset_valid_10/images/Sen_ship_hv_02018011401040026.jpg: 224x224 (no detections), 83.7ms\n",
            "image 364/397 /content/drive/MyDrive/ship_dataset_2/subset_valid_10/images/Sen_ship_hv_02018012601024051.jpg: 224x224 (no detections), 86.4ms\n",
            "image 365/397 /content/drive/MyDrive/ship_dataset_2/subset_valid_10/images/Sen_ship_hv_02018012602013010.jpg: 224x224 (no detections), 99.5ms\n",
            "image 366/397 /content/drive/MyDrive/ship_dataset_2/subset_valid_10/images/Sen_ship_vh_02016090801022010.jpg: 224x224 (no detections), 83.6ms\n",
            "image 367/397 /content/drive/MyDrive/ship_dataset_2/subset_valid_10/images/Sen_ship_vh_02017091501018026.jpg: 224x224 (no detections), 83.5ms\n",
            "image 368/397 /content/drive/MyDrive/ship_dataset_2/subset_valid_10/images/Sen_ship_vh_02017091501052027.jpg: 224x224 (no detections), 84.0ms\n",
            "image 369/397 /content/drive/MyDrive/ship_dataset_2/subset_valid_10/images/Sen_ship_vh_02018011301027026.jpg: 224x224 (no detections), 85.4ms\n",
            "image 370/397 /content/drive/MyDrive/ship_dataset_2/subset_valid_10/images/Sen_ship_vh_02018011301031015.jpg: 224x224 (no detections), 81.0ms\n",
            "image 371/397 /content/drive/MyDrive/ship_dataset_2/subset_valid_10/images/Sen_ship_vh_0201801190103202.jpg: 224x224 (no detections), 84.7ms\n",
            "image 372/397 /content/drive/MyDrive/ship_dataset_2/subset_valid_10/images/Sen_ship_vh_02018011901038015.jpg: 224x224 (no detections), 81.6ms\n",
            "image 373/397 /content/drive/MyDrive/ship_dataset_2/subset_valid_10/images/Sen_ship_vh_02018011901040012.jpg: 224x224 (no detections), 81.9ms\n",
            "image 374/397 /content/drive/MyDrive/ship_dataset_2/subset_valid_10/images/Sen_ship_vv_02016090801027012.jpg: 224x224 (no detections), 83.2ms\n",
            "image 375/397 /content/drive/MyDrive/ship_dataset_2/subset_valid_10/images/Sen_ship_vv_02016090801036012.jpg: 224x224 (no detections), 84.6ms\n",
            "image 376/397 /content/drive/MyDrive/ship_dataset_2/subset_valid_10/images/Sen_ship_vv_02016090801037016.jpg: 224x224 (no detections), 87.9ms\n",
            "image 377/397 /content/drive/MyDrive/ship_dataset_2/subset_valid_10/images/Sen_ship_vv_02018011301029018.jpg: 224x224 (no detections), 93.6ms\n",
            "image 378/397 /content/drive/MyDrive/ship_dataset_2/subset_valid_10/images/Sen_ship_vv_02018011301040013.jpg: 224x224 (no detections), 88.1ms\n",
            "image 379/397 /content/drive/MyDrive/ship_dataset_2/subset_valid_10/images/Sen_ship_vv_02018011301045018.jpg: 224x224 (no detections), 79.9ms\n",
            "image 380/397 /content/drive/MyDrive/ship_dataset_2/subset_valid_10/images/Sen_ship_vv_02018011901028011.jpg: 224x224 (no detections), 84.8ms\n",
            "image 381/397 /content/drive/MyDrive/ship_dataset_2/subset_valid_10/images/Sen_ship_vv_02018011901030019.jpg: 224x224 (no detections), 82.6ms\n",
            "image 382/397 /content/drive/MyDrive/ship_dataset_2/subset_valid_10/images/newship01006017.jpg: 224x224 (no detections), 80.9ms\n",
            "image 383/397 /content/drive/MyDrive/ship_dataset_2/subset_valid_10/images/newship011016038.jpg: 224x224 (no detections), 80.8ms\n",
            "image 384/397 /content/drive/MyDrive/ship_dataset_2/subset_valid_10/images/newship040302.jpg: 224x224 (no detections), 82.3ms\n",
            "image 385/397 /content/drive/MyDrive/ship_dataset_2/subset_valid_10/images/newship05013013.jpg: 224x224 (no detections), 83.6ms\n",
            "image 386/397 /content/drive/MyDrive/ship_dataset_2/subset_valid_10/images/newship05014029.jpg: 224x224 (no detections), 86.6ms\n",
            "image 387/397 /content/drive/MyDrive/ship_dataset_2/subset_valid_10/images/newship05017027.jpg: 224x224 (no detections), 85.5ms\n",
            "image 388/397 /content/drive/MyDrive/ship_dataset_2/subset_valid_10/images/newship0502020.jpg: 224x224 (no detections), 103.1ms\n",
            "image 389/397 /content/drive/MyDrive/ship_dataset_2/subset_valid_10/images/newship070105.jpg: 224x224 (no detections), 87.2ms\n",
            "image 390/397 /content/drive/MyDrive/ship_dataset_2/subset_valid_10/images/newship0808013.jpg: 224x224 (no detections), 85.8ms\n",
            "image 391/397 /content/drive/MyDrive/ship_dataset_2/subset_valid_10/images/newship0901003.jpg: 224x224 (no detections), 82.1ms\n",
            "image 392/397 /content/drive/MyDrive/ship_dataset_2/subset_valid_10/images/newship09013015.jpg: 224x224 (no detections), 83.7ms\n",
            "image 393/397 /content/drive/MyDrive/ship_dataset_2/subset_valid_10/images/newship0901905.jpg: 224x224 (no detections), 83.9ms\n",
            "image 394/397 /content/drive/MyDrive/ship_dataset_2/subset_valid_10/images/newship0902006.jpg: 224x224 (no detections), 82.2ms\n",
            "image 395/397 /content/drive/MyDrive/ship_dataset_2/subset_valid_10/images/ship0101004.jpg: 224x224 (no detections), 81.9ms\n",
            "image 396/397 /content/drive/MyDrive/ship_dataset_2/subset_valid_10/images/ship0201007.jpg: 224x224 (no detections), 85.3ms\n",
            "image 397/397 /content/drive/MyDrive/ship_dataset_2/subset_valid_10/images/ship0204013.jpg: 224x224 (no detections), 83.0ms\n",
            "Speed: 0.9ms preprocess, 96.2ms inference, 0.6ms postprocess per image at shape (1, 3, 224, 224)\n",
            "Results saved to \u001b[1mruns/detect/predict\u001b[0m\n",
            "💡 Learn more at https://docs.ultralytics.com/modes/predict\n"
          ]
        }
      ]
    },
    {
      "cell_type": "code",
      "source": [
        "!yolo detect val \\\n",
        "  model=\"sar_ship_detection/yolov8_ship3/weights/best.pt\" \\\n",
        "  data=\"/content/ship_data.yaml\" \\\n",
        "  split=val \\\n",
        "  conf=0.25 \\\n",
        "  save=True\n",
        "\n"
      ],
      "metadata": {
        "colab": {
          "base_uri": "https://localhost:8080/"
        },
        "id": "ToD5MgfFrFe-",
        "outputId": "2099c69c-0dd9-4603-9504-54926ba8240c"
      },
      "execution_count": 19,
      "outputs": [
        {
          "output_type": "stream",
          "name": "stdout",
          "text": [
            "Ultralytics 8.3.175 🚀 Python-3.11.13 torch-2.6.0+cu124 CPU (Intel Xeon 2.20GHz)\n",
            "Model summary (fused): 72 layers, 11,125,971 parameters, 0 gradients, 28.4 GFLOPs\n",
            "\u001b[34m\u001b[1mval: \u001b[0mFast image access ✅ (ping: 0.6±0.4 ms, read: 3.2±2.2 MB/s, size: 8.5 KB)\n",
            "\u001b[34m\u001b[1mval: \u001b[0mScanning /content/drive/MyDrive/ship_dataset_2/subset_valid_10/labels.cache... 0 images, 397 backgrounds, 0 corrupt: 100% 397/397 [00:00<?, ?it/s]\n",
            "WARNING ⚠️ Labels are missing or empty in /content/drive/MyDrive/ship_dataset_2/subset_valid_10/labels.cache, training may not work correctly. See https://docs.ultralytics.com/datasets for dataset formatting guidance.\n",
            "                 Class     Images  Instances      Box(P          R      mAP50  mAP50-95): 100% 25/25 [00:47<00:00,  1.89s/it]\n",
            "/usr/local/lib/python3.11/dist-packages/ultralytics/utils/metrics.py:668: RuntimeWarning: Mean of empty slice.\n",
            "  ax.plot(px, py.mean(1), linewidth=3, color=\"blue\", label=f\"all classes {ap[:, 0].mean():.3f} mAP@0.5\")\n",
            "/usr/local/lib/python3.11/dist-packages/numpy/_core/_methods.py:138: RuntimeWarning: invalid value encountered in scalar divide\n",
            "  ret = ret.dtype.type(ret / rcount)\n",
            "/usr/local/lib/python3.11/dist-packages/ultralytics/utils/metrics.py:713: RuntimeWarning: Mean of empty slice.\n",
            "  y = smooth(py.mean(0), 0.1)\n",
            "/usr/local/lib/python3.11/dist-packages/numpy/_core/_methods.py:130: RuntimeWarning: invalid value encountered in divide\n",
            "  ret = um.true_divide(\n",
            "/usr/local/lib/python3.11/dist-packages/ultralytics/utils/metrics.py:713: RuntimeWarning: Mean of empty slice.\n",
            "  y = smooth(py.mean(0), 0.1)\n",
            "/usr/local/lib/python3.11/dist-packages/numpy/_core/_methods.py:130: RuntimeWarning: invalid value encountered in divide\n",
            "  ret = um.true_divide(\n",
            "/usr/local/lib/python3.11/dist-packages/ultralytics/utils/metrics.py:713: RuntimeWarning: Mean of empty slice.\n",
            "  y = smooth(py.mean(0), 0.1)\n",
            "/usr/local/lib/python3.11/dist-packages/numpy/_core/_methods.py:130: RuntimeWarning: invalid value encountered in divide\n",
            "  ret = um.true_divide(\n",
            "/usr/local/lib/python3.11/dist-packages/ultralytics/utils/metrics.py:850: RuntimeWarning: Mean of empty slice.\n",
            "  i = smooth(f1_curve.mean(0), 0.1).argmax()  # max F1 index\n",
            "                   all        397          0          0          0          0          0\n",
            "WARNING ⚠️ no labels found in detect set, can not compute metrics without labels\n",
            "Speed: 0.3ms preprocess, 112.2ms inference, 0.0ms loss, 0.1ms postprocess per image\n",
            "Results saved to \u001b[1mruns/detect/val3\u001b[0m\n",
            "💡 Learn more at https://docs.ultralytics.com/modes/val\n"
          ]
        }
      ]
    },
    {
      "cell_type": "code",
      "source": [],
      "metadata": {
        "id": "Z4znYMVerKUc"
      },
      "execution_count": null,
      "outputs": []
    }
  ]
}